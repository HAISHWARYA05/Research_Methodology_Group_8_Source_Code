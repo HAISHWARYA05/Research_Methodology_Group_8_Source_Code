{
  "metadata": {
    "kernelspec": {
      "language": "python",
      "display_name": "Python 3",
      "name": "python3"
    },
    "language_info": {
      "name": "python",
      "version": "3.7.12",
      "mimetype": "text/x-python",
      "codemirror_mode": {
        "name": "ipython",
        "version": 3
      },
      "pygments_lexer": "ipython3",
      "nbconvert_exporter": "python",
      "file_extension": ".py"
    },
    "colab": {
      "provenance": []
    }
  },
  "nbformat_minor": 0,
  "nbformat": 4,
  "cells": [
    {
      "cell_type": "code",
      "source": [
        "import numpy as np # linear algebra\n",
        "import pandas as pd # data processing, CSV file I/O (e.g. pd.read_csv)\n",
        "#copied from https://www.kaggle.com/code/akashmathur2212/bitcoin-price-prediction-arima-xgboost-lstm-fbprop/notebook#LSTM\n",
        "file_path = '/content/bitcoin (1).csv'"
      ],
      "metadata": {
        "_uuid": "8f2839f25d086af736a60e9eeb907d3b93b6e0e5",
        "_cell_guid": "b1076dfc-b9ad-4769-8c92-a6c4dae69d19",
        "execution": {
          "iopub.status.busy": "2022-12-14T01:35:38.169900Z",
          "iopub.execute_input": "2022-12-14T01:35:38.170381Z",
          "iopub.status.idle": "2022-12-14T01:35:38.199922Z",
          "shell.execute_reply.started": "2022-12-14T01:35:38.170283Z",
          "shell.execute_reply": "2022-12-14T01:35:38.198783Z"
        },
        "trusted": true,
        "id": "NFYHnz3Jmuub"
      },
      "execution_count": null,
      "outputs": []
    },
    {
      "cell_type": "markdown",
      "source": [
        "#   **<span style> 1. Load Bitcoin data </span>**"
      ],
      "metadata": {
        "id": "Wwjxi96hmuug"
      }
    },
    {
      "cell_type": "code",
      "source": [
        "dataset = pd.read_csv(file_path)\n",
        "dataset.head()"
      ],
      "metadata": {
        "execution": {
          "iopub.status.busy": "2022-12-14T01:35:40.518685Z",
          "iopub.execute_input": "2022-12-14T01:35:40.519165Z",
          "iopub.status.idle": "2022-12-14T01:35:40.574023Z",
          "shell.execute_reply.started": "2022-12-14T01:35:40.519123Z",
          "shell.execute_reply": "2022-12-14T01:35:40.572342Z"
        },
        "trusted": true,
        "colab": {
          "base_uri": "https://localhost:8080/",
          "height": 206
        },
        "id": "B-2inalxmuuk",
        "outputId": "dd6fb234-b2f2-48e1-f492-70d4b155230b"
      },
      "execution_count": null,
      "outputs": [
        {
          "output_type": "execute_result",
          "data": {
            "text/plain": [
              "                      date    price  total_volume    market_cap coin_name\n",
              "0  2015-01-01 00:00:00.000  313.992  4.699936e+07  4.293958e+09   bitcoin\n",
              "1  2015-01-02 00:00:00.000  314.446  3.885591e+07  4.301448e+09   bitcoin\n",
              "2  2015-01-03 00:00:00.000  286.572  1.187789e+08  3.921358e+09   bitcoin\n",
              "3  2015-01-04 00:00:00.000  260.936  2.055001e+08  3.571640e+09   bitcoin\n",
              "4  2015-01-05 00:00:00.000  273.220  1.550381e+08  3.740880e+09   bitcoin"
            ],
            "text/html": [
              "\n",
              "  <div id=\"df-63d55b8b-624f-418b-acf0-64ca0560461a\">\n",
              "    <div class=\"colab-df-container\">\n",
              "      <div>\n",
              "<style scoped>\n",
              "    .dataframe tbody tr th:only-of-type {\n",
              "        vertical-align: middle;\n",
              "    }\n",
              "\n",
              "    .dataframe tbody tr th {\n",
              "        vertical-align: top;\n",
              "    }\n",
              "\n",
              "    .dataframe thead th {\n",
              "        text-align: right;\n",
              "    }\n",
              "</style>\n",
              "<table border=\"1\" class=\"dataframe\">\n",
              "  <thead>\n",
              "    <tr style=\"text-align: right;\">\n",
              "      <th></th>\n",
              "      <th>date</th>\n",
              "      <th>price</th>\n",
              "      <th>total_volume</th>\n",
              "      <th>market_cap</th>\n",
              "      <th>coin_name</th>\n",
              "    </tr>\n",
              "  </thead>\n",
              "  <tbody>\n",
              "    <tr>\n",
              "      <th>0</th>\n",
              "      <td>2015-01-01 00:00:00.000</td>\n",
              "      <td>313.992</td>\n",
              "      <td>4.699936e+07</td>\n",
              "      <td>4.293958e+09</td>\n",
              "      <td>bitcoin</td>\n",
              "    </tr>\n",
              "    <tr>\n",
              "      <th>1</th>\n",
              "      <td>2015-01-02 00:00:00.000</td>\n",
              "      <td>314.446</td>\n",
              "      <td>3.885591e+07</td>\n",
              "      <td>4.301448e+09</td>\n",
              "      <td>bitcoin</td>\n",
              "    </tr>\n",
              "    <tr>\n",
              "      <th>2</th>\n",
              "      <td>2015-01-03 00:00:00.000</td>\n",
              "      <td>286.572</td>\n",
              "      <td>1.187789e+08</td>\n",
              "      <td>3.921358e+09</td>\n",
              "      <td>bitcoin</td>\n",
              "    </tr>\n",
              "    <tr>\n",
              "      <th>3</th>\n",
              "      <td>2015-01-04 00:00:00.000</td>\n",
              "      <td>260.936</td>\n",
              "      <td>2.055001e+08</td>\n",
              "      <td>3.571640e+09</td>\n",
              "      <td>bitcoin</td>\n",
              "    </tr>\n",
              "    <tr>\n",
              "      <th>4</th>\n",
              "      <td>2015-01-05 00:00:00.000</td>\n",
              "      <td>273.220</td>\n",
              "      <td>1.550381e+08</td>\n",
              "      <td>3.740880e+09</td>\n",
              "      <td>bitcoin</td>\n",
              "    </tr>\n",
              "  </tbody>\n",
              "</table>\n",
              "</div>\n",
              "      <button class=\"colab-df-convert\" onclick=\"convertToInteractive('df-63d55b8b-624f-418b-acf0-64ca0560461a')\"\n",
              "              title=\"Convert this dataframe to an interactive table.\"\n",
              "              style=\"display:none;\">\n",
              "        \n",
              "  <svg xmlns=\"http://www.w3.org/2000/svg\" height=\"24px\"viewBox=\"0 0 24 24\"\n",
              "       width=\"24px\">\n",
              "    <path d=\"M0 0h24v24H0V0z\" fill=\"none\"/>\n",
              "    <path d=\"M18.56 5.44l.94 2.06.94-2.06 2.06-.94-2.06-.94-.94-2.06-.94 2.06-2.06.94zm-11 1L8.5 8.5l.94-2.06 2.06-.94-2.06-.94L8.5 2.5l-.94 2.06-2.06.94zm10 10l.94 2.06.94-2.06 2.06-.94-2.06-.94-.94-2.06-.94 2.06-2.06.94z\"/><path d=\"M17.41 7.96l-1.37-1.37c-.4-.4-.92-.59-1.43-.59-.52 0-1.04.2-1.43.59L10.3 9.45l-7.72 7.72c-.78.78-.78 2.05 0 2.83L4 21.41c.39.39.9.59 1.41.59.51 0 1.02-.2 1.41-.59l7.78-7.78 2.81-2.81c.8-.78.8-2.07 0-2.86zM5.41 20L4 18.59l7.72-7.72 1.47 1.35L5.41 20z\"/>\n",
              "  </svg>\n",
              "      </button>\n",
              "      \n",
              "  <style>\n",
              "    .colab-df-container {\n",
              "      display:flex;\n",
              "      flex-wrap:wrap;\n",
              "      gap: 12px;\n",
              "    }\n",
              "\n",
              "    .colab-df-convert {\n",
              "      background-color: #E8F0FE;\n",
              "      border: none;\n",
              "      border-radius: 50%;\n",
              "      cursor: pointer;\n",
              "      display: none;\n",
              "      fill: #1967D2;\n",
              "      height: 32px;\n",
              "      padding: 0 0 0 0;\n",
              "      width: 32px;\n",
              "    }\n",
              "\n",
              "    .colab-df-convert:hover {\n",
              "      background-color: #E2EBFA;\n",
              "      box-shadow: 0px 1px 2px rgba(60, 64, 67, 0.3), 0px 1px 3px 1px rgba(60, 64, 67, 0.15);\n",
              "      fill: #174EA6;\n",
              "    }\n",
              "\n",
              "    [theme=dark] .colab-df-convert {\n",
              "      background-color: #3B4455;\n",
              "      fill: #D2E3FC;\n",
              "    }\n",
              "\n",
              "    [theme=dark] .colab-df-convert:hover {\n",
              "      background-color: #434B5C;\n",
              "      box-shadow: 0px 1px 3px 1px rgba(0, 0, 0, 0.15);\n",
              "      filter: drop-shadow(0px 1px 2px rgba(0, 0, 0, 0.3));\n",
              "      fill: #FFFFFF;\n",
              "    }\n",
              "  </style>\n",
              "\n",
              "      <script>\n",
              "        const buttonEl =\n",
              "          document.querySelector('#df-63d55b8b-624f-418b-acf0-64ca0560461a button.colab-df-convert');\n",
              "        buttonEl.style.display =\n",
              "          google.colab.kernel.accessAllowed ? 'block' : 'none';\n",
              "\n",
              "        async function convertToInteractive(key) {\n",
              "          const element = document.querySelector('#df-63d55b8b-624f-418b-acf0-64ca0560461a');\n",
              "          const dataTable =\n",
              "            await google.colab.kernel.invokeFunction('convertToInteractive',\n",
              "                                                     [key], {});\n",
              "          if (!dataTable) return;\n",
              "\n",
              "          const docLinkHtml = 'Like what you see? Visit the ' +\n",
              "            '<a target=\"_blank\" href=https://colab.research.google.com/notebooks/data_table.ipynb>data table notebook</a>'\n",
              "            + ' to learn more about interactive tables.';\n",
              "          element.innerHTML = '';\n",
              "          dataTable['output_type'] = 'display_data';\n",
              "          await google.colab.output.renderOutput(dataTable, element);\n",
              "          const docLink = document.createElement('div');\n",
              "          docLink.innerHTML = docLinkHtml;\n",
              "          element.appendChild(docLink);\n",
              "        }\n",
              "      </script>\n",
              "    </div>\n",
              "  </div>\n",
              "  "
            ]
          },
          "metadata": {},
          "execution_count": 36
        }
      ]
    },
    {
      "cell_type": "code",
      "source": [
        "dataset.describe()"
      ],
      "metadata": {
        "execution": {
          "iopub.status.busy": "2022-12-14T01:35:43.539709Z",
          "iopub.execute_input": "2022-12-14T01:35:43.540108Z",
          "iopub.status.idle": "2022-12-14T01:35:43.577625Z",
          "shell.execute_reply.started": "2022-12-14T01:35:43.540070Z",
          "shell.execute_reply": "2022-12-14T01:35:43.576403Z"
        },
        "trusted": true,
        "colab": {
          "base_uri": "https://localhost:8080/",
          "height": 300
        },
        "id": "s4gBKUE_muuo",
        "outputId": "73e4ca2c-a7d3-4756-e064-d06827e46528"
      },
      "execution_count": null,
      "outputs": [
        {
          "output_type": "execute_result",
          "data": {
            "text/plain": [
              "              price  total_volume    market_cap\n",
              "count   2903.000000  2.903000e+03  2.902000e+03\n",
              "mean   13303.644712  1.693696e+10  2.462377e+11\n",
              "std    16368.268775  2.324151e+10  3.096544e+11\n",
              "min      172.147900  1.823845e+07  2.362640e+09\n",
              "25%      843.838150  1.002153e+09  1.345601e+10\n",
              "50%     7309.689244  5.969709e+09  1.295735e+11\n",
              "75%    17769.365132  2.753158e+10  3.291796e+11\n",
              "max    67617.015545  4.293082e+11  1.278798e+12"
            ],
            "text/html": [
              "\n",
              "  <div id=\"df-d7685ae0-368b-4bf2-80eb-cd531f8ad379\">\n",
              "    <div class=\"colab-df-container\">\n",
              "      <div>\n",
              "<style scoped>\n",
              "    .dataframe tbody tr th:only-of-type {\n",
              "        vertical-align: middle;\n",
              "    }\n",
              "\n",
              "    .dataframe tbody tr th {\n",
              "        vertical-align: top;\n",
              "    }\n",
              "\n",
              "    .dataframe thead th {\n",
              "        text-align: right;\n",
              "    }\n",
              "</style>\n",
              "<table border=\"1\" class=\"dataframe\">\n",
              "  <thead>\n",
              "    <tr style=\"text-align: right;\">\n",
              "      <th></th>\n",
              "      <th>price</th>\n",
              "      <th>total_volume</th>\n",
              "      <th>market_cap</th>\n",
              "    </tr>\n",
              "  </thead>\n",
              "  <tbody>\n",
              "    <tr>\n",
              "      <th>count</th>\n",
              "      <td>2903.000000</td>\n",
              "      <td>2.903000e+03</td>\n",
              "      <td>2.902000e+03</td>\n",
              "    </tr>\n",
              "    <tr>\n",
              "      <th>mean</th>\n",
              "      <td>13303.644712</td>\n",
              "      <td>1.693696e+10</td>\n",
              "      <td>2.462377e+11</td>\n",
              "    </tr>\n",
              "    <tr>\n",
              "      <th>std</th>\n",
              "      <td>16368.268775</td>\n",
              "      <td>2.324151e+10</td>\n",
              "      <td>3.096544e+11</td>\n",
              "    </tr>\n",
              "    <tr>\n",
              "      <th>min</th>\n",
              "      <td>172.147900</td>\n",
              "      <td>1.823845e+07</td>\n",
              "      <td>2.362640e+09</td>\n",
              "    </tr>\n",
              "    <tr>\n",
              "      <th>25%</th>\n",
              "      <td>843.838150</td>\n",
              "      <td>1.002153e+09</td>\n",
              "      <td>1.345601e+10</td>\n",
              "    </tr>\n",
              "    <tr>\n",
              "      <th>50%</th>\n",
              "      <td>7309.689244</td>\n",
              "      <td>5.969709e+09</td>\n",
              "      <td>1.295735e+11</td>\n",
              "    </tr>\n",
              "    <tr>\n",
              "      <th>75%</th>\n",
              "      <td>17769.365132</td>\n",
              "      <td>2.753158e+10</td>\n",
              "      <td>3.291796e+11</td>\n",
              "    </tr>\n",
              "    <tr>\n",
              "      <th>max</th>\n",
              "      <td>67617.015545</td>\n",
              "      <td>4.293082e+11</td>\n",
              "      <td>1.278798e+12</td>\n",
              "    </tr>\n",
              "  </tbody>\n",
              "</table>\n",
              "</div>\n",
              "      <button class=\"colab-df-convert\" onclick=\"convertToInteractive('df-d7685ae0-368b-4bf2-80eb-cd531f8ad379')\"\n",
              "              title=\"Convert this dataframe to an interactive table.\"\n",
              "              style=\"display:none;\">\n",
              "        \n",
              "  <svg xmlns=\"http://www.w3.org/2000/svg\" height=\"24px\"viewBox=\"0 0 24 24\"\n",
              "       width=\"24px\">\n",
              "    <path d=\"M0 0h24v24H0V0z\" fill=\"none\"/>\n",
              "    <path d=\"M18.56 5.44l.94 2.06.94-2.06 2.06-.94-2.06-.94-.94-2.06-.94 2.06-2.06.94zm-11 1L8.5 8.5l.94-2.06 2.06-.94-2.06-.94L8.5 2.5l-.94 2.06-2.06.94zm10 10l.94 2.06.94-2.06 2.06-.94-2.06-.94-.94-2.06-.94 2.06-2.06.94z\"/><path d=\"M17.41 7.96l-1.37-1.37c-.4-.4-.92-.59-1.43-.59-.52 0-1.04.2-1.43.59L10.3 9.45l-7.72 7.72c-.78.78-.78 2.05 0 2.83L4 21.41c.39.39.9.59 1.41.59.51 0 1.02-.2 1.41-.59l7.78-7.78 2.81-2.81c.8-.78.8-2.07 0-2.86zM5.41 20L4 18.59l7.72-7.72 1.47 1.35L5.41 20z\"/>\n",
              "  </svg>\n",
              "      </button>\n",
              "      \n",
              "  <style>\n",
              "    .colab-df-container {\n",
              "      display:flex;\n",
              "      flex-wrap:wrap;\n",
              "      gap: 12px;\n",
              "    }\n",
              "\n",
              "    .colab-df-convert {\n",
              "      background-color: #E8F0FE;\n",
              "      border: none;\n",
              "      border-radius: 50%;\n",
              "      cursor: pointer;\n",
              "      display: none;\n",
              "      fill: #1967D2;\n",
              "      height: 32px;\n",
              "      padding: 0 0 0 0;\n",
              "      width: 32px;\n",
              "    }\n",
              "\n",
              "    .colab-df-convert:hover {\n",
              "      background-color: #E2EBFA;\n",
              "      box-shadow: 0px 1px 2px rgba(60, 64, 67, 0.3), 0px 1px 3px 1px rgba(60, 64, 67, 0.15);\n",
              "      fill: #174EA6;\n",
              "    }\n",
              "\n",
              "    [theme=dark] .colab-df-convert {\n",
              "      background-color: #3B4455;\n",
              "      fill: #D2E3FC;\n",
              "    }\n",
              "\n",
              "    [theme=dark] .colab-df-convert:hover {\n",
              "      background-color: #434B5C;\n",
              "      box-shadow: 0px 1px 3px 1px rgba(0, 0, 0, 0.15);\n",
              "      filter: drop-shadow(0px 1px 2px rgba(0, 0, 0, 0.3));\n",
              "      fill: #FFFFFF;\n",
              "    }\n",
              "  </style>\n",
              "\n",
              "      <script>\n",
              "        const buttonEl =\n",
              "          document.querySelector('#df-d7685ae0-368b-4bf2-80eb-cd531f8ad379 button.colab-df-convert');\n",
              "        buttonEl.style.display =\n",
              "          google.colab.kernel.accessAllowed ? 'block' : 'none';\n",
              "\n",
              "        async function convertToInteractive(key) {\n",
              "          const element = document.querySelector('#df-d7685ae0-368b-4bf2-80eb-cd531f8ad379');\n",
              "          const dataTable =\n",
              "            await google.colab.kernel.invokeFunction('convertToInteractive',\n",
              "                                                     [key], {});\n",
              "          if (!dataTable) return;\n",
              "\n",
              "          const docLinkHtml = 'Like what you see? Visit the ' +\n",
              "            '<a target=\"_blank\" href=https://colab.research.google.com/notebooks/data_table.ipynb>data table notebook</a>'\n",
              "            + ' to learn more about interactive tables.';\n",
              "          element.innerHTML = '';\n",
              "          dataTable['output_type'] = 'display_data';\n",
              "          await google.colab.output.renderOutput(dataTable, element);\n",
              "          const docLink = document.createElement('div');\n",
              "          docLink.innerHTML = docLinkHtml;\n",
              "          element.appendChild(docLink);\n",
              "        }\n",
              "      </script>\n",
              "    </div>\n",
              "  </div>\n",
              "  "
            ]
          },
          "metadata": {},
          "execution_count": 37
        }
      ]
    },
    {
      "cell_type": "markdown",
      "source": [
        "#   **<span style> 1.1 Loading Bitcoin Real world entity data </span>**"
      ],
      "metadata": {
        "id": "uEVMaIBn87Pb"
      }
    },
    {
      "cell_type": "code",
      "source": [
        "ANN_dataset = pd.read_csv('/content/Real world data.csv')\n",
        "ANN_dataset.head()"
      ],
      "metadata": {
        "colab": {
          "base_uri": "https://localhost:8080/",
          "height": 206
        },
        "id": "PCXNipd59CWG",
        "outputId": "9c8cc81d-e937-44bf-a480-3386243eac81"
      },
      "execution_count": 177,
      "outputs": [
        {
          "output_type": "execute_result",
          "data": {
            "text/plain": [
              "         Date  Bitcoin Difficulty Level\n",
              "0  12/13/2022              3.424433e+13\n",
              "1  12/12/2022              3.424433e+13\n",
              "2  12/11/2022              3.424433e+13\n",
              "3  12/10/2022              3.424433e+13\n",
              "4  12/09/2022              3.424433e+13"
            ],
            "text/html": [
              "\n",
              "  <div id=\"df-2dd48ed6-f344-40cd-9260-e7d9a6967dcf\">\n",
              "    <div class=\"colab-df-container\">\n",
              "      <div>\n",
              "<style scoped>\n",
              "    .dataframe tbody tr th:only-of-type {\n",
              "        vertical-align: middle;\n",
              "    }\n",
              "\n",
              "    .dataframe tbody tr th {\n",
              "        vertical-align: top;\n",
              "    }\n",
              "\n",
              "    .dataframe thead th {\n",
              "        text-align: right;\n",
              "    }\n",
              "</style>\n",
              "<table border=\"1\" class=\"dataframe\">\n",
              "  <thead>\n",
              "    <tr style=\"text-align: right;\">\n",
              "      <th></th>\n",
              "      <th>Date</th>\n",
              "      <th>Bitcoin Difficulty Level</th>\n",
              "    </tr>\n",
              "  </thead>\n",
              "  <tbody>\n",
              "    <tr>\n",
              "      <th>0</th>\n",
              "      <td>12/13/2022</td>\n",
              "      <td>3.424433e+13</td>\n",
              "    </tr>\n",
              "    <tr>\n",
              "      <th>1</th>\n",
              "      <td>12/12/2022</td>\n",
              "      <td>3.424433e+13</td>\n",
              "    </tr>\n",
              "    <tr>\n",
              "      <th>2</th>\n",
              "      <td>12/11/2022</td>\n",
              "      <td>3.424433e+13</td>\n",
              "    </tr>\n",
              "    <tr>\n",
              "      <th>3</th>\n",
              "      <td>12/10/2022</td>\n",
              "      <td>3.424433e+13</td>\n",
              "    </tr>\n",
              "    <tr>\n",
              "      <th>4</th>\n",
              "      <td>12/09/2022</td>\n",
              "      <td>3.424433e+13</td>\n",
              "    </tr>\n",
              "  </tbody>\n",
              "</table>\n",
              "</div>\n",
              "      <button class=\"colab-df-convert\" onclick=\"convertToInteractive('df-2dd48ed6-f344-40cd-9260-e7d9a6967dcf')\"\n",
              "              title=\"Convert this dataframe to an interactive table.\"\n",
              "              style=\"display:none;\">\n",
              "        \n",
              "  <svg xmlns=\"http://www.w3.org/2000/svg\" height=\"24px\"viewBox=\"0 0 24 24\"\n",
              "       width=\"24px\">\n",
              "    <path d=\"M0 0h24v24H0V0z\" fill=\"none\"/>\n",
              "    <path d=\"M18.56 5.44l.94 2.06.94-2.06 2.06-.94-2.06-.94-.94-2.06-.94 2.06-2.06.94zm-11 1L8.5 8.5l.94-2.06 2.06-.94-2.06-.94L8.5 2.5l-.94 2.06-2.06.94zm10 10l.94 2.06.94-2.06 2.06-.94-2.06-.94-.94-2.06-.94 2.06-2.06.94z\"/><path d=\"M17.41 7.96l-1.37-1.37c-.4-.4-.92-.59-1.43-.59-.52 0-1.04.2-1.43.59L10.3 9.45l-7.72 7.72c-.78.78-.78 2.05 0 2.83L4 21.41c.39.39.9.59 1.41.59.51 0 1.02-.2 1.41-.59l7.78-7.78 2.81-2.81c.8-.78.8-2.07 0-2.86zM5.41 20L4 18.59l7.72-7.72 1.47 1.35L5.41 20z\"/>\n",
              "  </svg>\n",
              "      </button>\n",
              "      \n",
              "  <style>\n",
              "    .colab-df-container {\n",
              "      display:flex;\n",
              "      flex-wrap:wrap;\n",
              "      gap: 12px;\n",
              "    }\n",
              "\n",
              "    .colab-df-convert {\n",
              "      background-color: #E8F0FE;\n",
              "      border: none;\n",
              "      border-radius: 50%;\n",
              "      cursor: pointer;\n",
              "      display: none;\n",
              "      fill: #1967D2;\n",
              "      height: 32px;\n",
              "      padding: 0 0 0 0;\n",
              "      width: 32px;\n",
              "    }\n",
              "\n",
              "    .colab-df-convert:hover {\n",
              "      background-color: #E2EBFA;\n",
              "      box-shadow: 0px 1px 2px rgba(60, 64, 67, 0.3), 0px 1px 3px 1px rgba(60, 64, 67, 0.15);\n",
              "      fill: #174EA6;\n",
              "    }\n",
              "\n",
              "    [theme=dark] .colab-df-convert {\n",
              "      background-color: #3B4455;\n",
              "      fill: #D2E3FC;\n",
              "    }\n",
              "\n",
              "    [theme=dark] .colab-df-convert:hover {\n",
              "      background-color: #434B5C;\n",
              "      box-shadow: 0px 1px 3px 1px rgba(0, 0, 0, 0.15);\n",
              "      filter: drop-shadow(0px 1px 2px rgba(0, 0, 0, 0.3));\n",
              "      fill: #FFFFFF;\n",
              "    }\n",
              "  </style>\n",
              "\n",
              "      <script>\n",
              "        const buttonEl =\n",
              "          document.querySelector('#df-2dd48ed6-f344-40cd-9260-e7d9a6967dcf button.colab-df-convert');\n",
              "        buttonEl.style.display =\n",
              "          google.colab.kernel.accessAllowed ? 'block' : 'none';\n",
              "\n",
              "        async function convertToInteractive(key) {\n",
              "          const element = document.querySelector('#df-2dd48ed6-f344-40cd-9260-e7d9a6967dcf');\n",
              "          const dataTable =\n",
              "            await google.colab.kernel.invokeFunction('convertToInteractive',\n",
              "                                                     [key], {});\n",
              "          if (!dataTable) return;\n",
              "\n",
              "          const docLinkHtml = 'Like what you see? Visit the ' +\n",
              "            '<a target=\"_blank\" href=https://colab.research.google.com/notebooks/data_table.ipynb>data table notebook</a>'\n",
              "            + ' to learn more about interactive tables.';\n",
              "          element.innerHTML = '';\n",
              "          dataTable['output_type'] = 'display_data';\n",
              "          await google.colab.output.renderOutput(dataTable, element);\n",
              "          const docLink = document.createElement('div');\n",
              "          docLink.innerHTML = docLinkHtml;\n",
              "          element.appendChild(docLink);\n",
              "        }\n",
              "      </script>\n",
              "    </div>\n",
              "  </div>\n",
              "  "
            ]
          },
          "metadata": {},
          "execution_count": 177
        }
      ]
    },
    {
      "cell_type": "code",
      "source": [
        "ANN_dataset.describe()"
      ],
      "metadata": {
        "colab": {
          "base_uri": "https://localhost:8080/",
          "height": 300
        },
        "id": "Aquj_3C19PJR",
        "outputId": "fc6e49ef-061f-4958-e39a-853647d6d8c3"
      },
      "execution_count": 178,
      "outputs": [
        {
          "output_type": "execute_result",
          "data": {
            "text/plain": [
              "       Bitcoin Difficulty Level\n",
              "count              1.210000e+02\n",
              "mean               3.362224e+13\n",
              "std                3.088933e+12\n",
              "min                2.817467e+13\n",
              "25%                3.136055e+13\n",
              "50%                3.424433e+13\n",
              "75%                3.676220e+13\n",
              "max                3.695049e+13"
            ],
            "text/html": [
              "\n",
              "  <div id=\"df-07d7e9ad-b522-4506-be56-cf1c971d95b2\">\n",
              "    <div class=\"colab-df-container\">\n",
              "      <div>\n",
              "<style scoped>\n",
              "    .dataframe tbody tr th:only-of-type {\n",
              "        vertical-align: middle;\n",
              "    }\n",
              "\n",
              "    .dataframe tbody tr th {\n",
              "        vertical-align: top;\n",
              "    }\n",
              "\n",
              "    .dataframe thead th {\n",
              "        text-align: right;\n",
              "    }\n",
              "</style>\n",
              "<table border=\"1\" class=\"dataframe\">\n",
              "  <thead>\n",
              "    <tr style=\"text-align: right;\">\n",
              "      <th></th>\n",
              "      <th>Bitcoin Difficulty Level</th>\n",
              "    </tr>\n",
              "  </thead>\n",
              "  <tbody>\n",
              "    <tr>\n",
              "      <th>count</th>\n",
              "      <td>1.210000e+02</td>\n",
              "    </tr>\n",
              "    <tr>\n",
              "      <th>mean</th>\n",
              "      <td>3.362224e+13</td>\n",
              "    </tr>\n",
              "    <tr>\n",
              "      <th>std</th>\n",
              "      <td>3.088933e+12</td>\n",
              "    </tr>\n",
              "    <tr>\n",
              "      <th>min</th>\n",
              "      <td>2.817467e+13</td>\n",
              "    </tr>\n",
              "    <tr>\n",
              "      <th>25%</th>\n",
              "      <td>3.136055e+13</td>\n",
              "    </tr>\n",
              "    <tr>\n",
              "      <th>50%</th>\n",
              "      <td>3.424433e+13</td>\n",
              "    </tr>\n",
              "    <tr>\n",
              "      <th>75%</th>\n",
              "      <td>3.676220e+13</td>\n",
              "    </tr>\n",
              "    <tr>\n",
              "      <th>max</th>\n",
              "      <td>3.695049e+13</td>\n",
              "    </tr>\n",
              "  </tbody>\n",
              "</table>\n",
              "</div>\n",
              "      <button class=\"colab-df-convert\" onclick=\"convertToInteractive('df-07d7e9ad-b522-4506-be56-cf1c971d95b2')\"\n",
              "              title=\"Convert this dataframe to an interactive table.\"\n",
              "              style=\"display:none;\">\n",
              "        \n",
              "  <svg xmlns=\"http://www.w3.org/2000/svg\" height=\"24px\"viewBox=\"0 0 24 24\"\n",
              "       width=\"24px\">\n",
              "    <path d=\"M0 0h24v24H0V0z\" fill=\"none\"/>\n",
              "    <path d=\"M18.56 5.44l.94 2.06.94-2.06 2.06-.94-2.06-.94-.94-2.06-.94 2.06-2.06.94zm-11 1L8.5 8.5l.94-2.06 2.06-.94-2.06-.94L8.5 2.5l-.94 2.06-2.06.94zm10 10l.94 2.06.94-2.06 2.06-.94-2.06-.94-.94-2.06-.94 2.06-2.06.94z\"/><path d=\"M17.41 7.96l-1.37-1.37c-.4-.4-.92-.59-1.43-.59-.52 0-1.04.2-1.43.59L10.3 9.45l-7.72 7.72c-.78.78-.78 2.05 0 2.83L4 21.41c.39.39.9.59 1.41.59.51 0 1.02-.2 1.41-.59l7.78-7.78 2.81-2.81c.8-.78.8-2.07 0-2.86zM5.41 20L4 18.59l7.72-7.72 1.47 1.35L5.41 20z\"/>\n",
              "  </svg>\n",
              "      </button>\n",
              "      \n",
              "  <style>\n",
              "    .colab-df-container {\n",
              "      display:flex;\n",
              "      flex-wrap:wrap;\n",
              "      gap: 12px;\n",
              "    }\n",
              "\n",
              "    .colab-df-convert {\n",
              "      background-color: #E8F0FE;\n",
              "      border: none;\n",
              "      border-radius: 50%;\n",
              "      cursor: pointer;\n",
              "      display: none;\n",
              "      fill: #1967D2;\n",
              "      height: 32px;\n",
              "      padding: 0 0 0 0;\n",
              "      width: 32px;\n",
              "    }\n",
              "\n",
              "    .colab-df-convert:hover {\n",
              "      background-color: #E2EBFA;\n",
              "      box-shadow: 0px 1px 2px rgba(60, 64, 67, 0.3), 0px 1px 3px 1px rgba(60, 64, 67, 0.15);\n",
              "      fill: #174EA6;\n",
              "    }\n",
              "\n",
              "    [theme=dark] .colab-df-convert {\n",
              "      background-color: #3B4455;\n",
              "      fill: #D2E3FC;\n",
              "    }\n",
              "\n",
              "    [theme=dark] .colab-df-convert:hover {\n",
              "      background-color: #434B5C;\n",
              "      box-shadow: 0px 1px 3px 1px rgba(0, 0, 0, 0.15);\n",
              "      filter: drop-shadow(0px 1px 2px rgba(0, 0, 0, 0.3));\n",
              "      fill: #FFFFFF;\n",
              "    }\n",
              "  </style>\n",
              "\n",
              "      <script>\n",
              "        const buttonEl =\n",
              "          document.querySelector('#df-07d7e9ad-b522-4506-be56-cf1c971d95b2 button.colab-df-convert');\n",
              "        buttonEl.style.display =\n",
              "          google.colab.kernel.accessAllowed ? 'block' : 'none';\n",
              "\n",
              "        async function convertToInteractive(key) {\n",
              "          const element = document.querySelector('#df-07d7e9ad-b522-4506-be56-cf1c971d95b2');\n",
              "          const dataTable =\n",
              "            await google.colab.kernel.invokeFunction('convertToInteractive',\n",
              "                                                     [key], {});\n",
              "          if (!dataTable) return;\n",
              "\n",
              "          const docLinkHtml = 'Like what you see? Visit the ' +\n",
              "            '<a target=\"_blank\" href=https://colab.research.google.com/notebooks/data_table.ipynb>data table notebook</a>'\n",
              "            + ' to learn more about interactive tables.';\n",
              "          element.innerHTML = '';\n",
              "          dataTable['output_type'] = 'display_data';\n",
              "          await google.colab.output.renderOutput(dataTable, element);\n",
              "          const docLink = document.createElement('div');\n",
              "          docLink.innerHTML = docLinkHtml;\n",
              "          element.appendChild(docLink);\n",
              "        }\n",
              "      </script>\n",
              "    </div>\n",
              "  </div>\n",
              "  "
            ]
          },
          "metadata": {},
          "execution_count": 178
        }
      ]
    },
    {
      "cell_type": "markdown",
      "source": [
        "#   **<span>2.Bitcoin Data </span>**"
      ],
      "metadata": {
        "id": "Ezjvyr8Vmuuq"
      }
    },
    {
      "cell_type": "markdown",
      "source": [
        "## **<span>2.1 Check any null values present </span>**"
      ],
      "metadata": {
        "id": "x0xITxoamuur"
      }
    },
    {
      "cell_type": "code",
      "source": [
        "dataset.isnull().sum()"
      ],
      "metadata": {
        "execution": {
          "iopub.status.busy": "2022-12-14T01:35:46.758704Z",
          "iopub.execute_input": "2022-12-14T01:35:46.759173Z",
          "iopub.status.idle": "2022-12-14T01:35:46.769286Z",
          "shell.execute_reply.started": "2022-12-14T01:35:46.759131Z",
          "shell.execute_reply": "2022-12-14T01:35:46.767866Z"
        },
        "trusted": true,
        "colab": {
          "base_uri": "https://localhost:8080/"
        },
        "id": "7dJ1QumImuus",
        "outputId": "803ff6b4-9e88-4d1d-c2b7-70b082230c5d"
      },
      "execution_count": null,
      "outputs": [
        {
          "output_type": "execute_result",
          "data": {
            "text/plain": [
              "date            0\n",
              "price           0\n",
              "total_volume    0\n",
              "market_cap      1\n",
              "coin_name       0\n",
              "dtype: int64"
            ]
          },
          "metadata": {},
          "execution_count": 38
        }
      ]
    },
    {
      "cell_type": "markdown",
      "source": [
        "##  **<span>2.2 Plotting Few price data </span>**"
      ],
      "metadata": {
        "id": "KaVM0eO4muut"
      }
    },
    {
      "cell_type": "code",
      "source": [
        "import matplotlib.pyplot as plt\n",
        "start_date = pd.to_datetime(dataset.date[0])\n",
        "end_date = pd.to_datetime(dataset.date.values[-1])\n",
        "dataset['date'] = pd.to_datetime(dataset['date'])"
      ],
      "metadata": {
        "execution": {
          "iopub.status.busy": "2022-12-14T01:35:50.977089Z",
          "iopub.execute_input": "2022-12-14T01:35:50.977829Z",
          "iopub.status.idle": "2022-12-14T01:35:50.989296Z",
          "shell.execute_reply.started": "2022-12-14T01:35:50.977778Z",
          "shell.execute_reply": "2022-12-14T01:35:50.987884Z"
        },
        "trusted": true,
        "id": "UjM-0azpmuuu"
      },
      "execution_count": null,
      "outputs": []
    },
    {
      "cell_type": "code",
      "source": [
        "dataset.tail()"
      ],
      "metadata": {
        "execution": {
          "iopub.status.busy": "2022-12-14T01:35:53.796016Z",
          "iopub.execute_input": "2022-12-14T01:35:53.797131Z",
          "iopub.status.idle": "2022-12-14T01:35:53.810934Z",
          "shell.execute_reply.started": "2022-12-14T01:35:53.797086Z",
          "shell.execute_reply": "2022-12-14T01:35:53.809785Z"
        },
        "trusted": true,
        "colab": {
          "base_uri": "https://localhost:8080/",
          "height": 206
        },
        "id": "ZCBEe_1emuuv",
        "outputId": "023d971e-546d-456d-e09d-836acc1be2b2"
      },
      "execution_count": null,
      "outputs": [
        {
          "output_type": "execute_result",
          "data": {
            "text/plain": [
              "           date         price  total_volume    market_cap coin_name\n",
              "2898 2022-12-09  17235.014158  2.267403e+10  3.313899e+11   bitcoin\n",
              "2899 2022-12-10  17149.824204  2.317983e+10  3.297568e+11   bitcoin\n",
              "2900 2022-12-11  17125.364928  1.423437e+10  3.292832e+11   bitcoin\n",
              "2901 2022-12-12  17101.038020  1.568112e+10  3.288688e+11   bitcoin\n",
              "2902 2022-12-13  17179.596038  2.163383e+10  3.307157e+11   bitcoin"
            ],
            "text/html": [
              "\n",
              "  <div id=\"df-69f7781e-4f2a-4a8c-9731-14af52dd25fd\">\n",
              "    <div class=\"colab-df-container\">\n",
              "      <div>\n",
              "<style scoped>\n",
              "    .dataframe tbody tr th:only-of-type {\n",
              "        vertical-align: middle;\n",
              "    }\n",
              "\n",
              "    .dataframe tbody tr th {\n",
              "        vertical-align: top;\n",
              "    }\n",
              "\n",
              "    .dataframe thead th {\n",
              "        text-align: right;\n",
              "    }\n",
              "</style>\n",
              "<table border=\"1\" class=\"dataframe\">\n",
              "  <thead>\n",
              "    <tr style=\"text-align: right;\">\n",
              "      <th></th>\n",
              "      <th>date</th>\n",
              "      <th>price</th>\n",
              "      <th>total_volume</th>\n",
              "      <th>market_cap</th>\n",
              "      <th>coin_name</th>\n",
              "    </tr>\n",
              "  </thead>\n",
              "  <tbody>\n",
              "    <tr>\n",
              "      <th>2898</th>\n",
              "      <td>2022-12-09</td>\n",
              "      <td>17235.014158</td>\n",
              "      <td>2.267403e+10</td>\n",
              "      <td>3.313899e+11</td>\n",
              "      <td>bitcoin</td>\n",
              "    </tr>\n",
              "    <tr>\n",
              "      <th>2899</th>\n",
              "      <td>2022-12-10</td>\n",
              "      <td>17149.824204</td>\n",
              "      <td>2.317983e+10</td>\n",
              "      <td>3.297568e+11</td>\n",
              "      <td>bitcoin</td>\n",
              "    </tr>\n",
              "    <tr>\n",
              "      <th>2900</th>\n",
              "      <td>2022-12-11</td>\n",
              "      <td>17125.364928</td>\n",
              "      <td>1.423437e+10</td>\n",
              "      <td>3.292832e+11</td>\n",
              "      <td>bitcoin</td>\n",
              "    </tr>\n",
              "    <tr>\n",
              "      <th>2901</th>\n",
              "      <td>2022-12-12</td>\n",
              "      <td>17101.038020</td>\n",
              "      <td>1.568112e+10</td>\n",
              "      <td>3.288688e+11</td>\n",
              "      <td>bitcoin</td>\n",
              "    </tr>\n",
              "    <tr>\n",
              "      <th>2902</th>\n",
              "      <td>2022-12-13</td>\n",
              "      <td>17179.596038</td>\n",
              "      <td>2.163383e+10</td>\n",
              "      <td>3.307157e+11</td>\n",
              "      <td>bitcoin</td>\n",
              "    </tr>\n",
              "  </tbody>\n",
              "</table>\n",
              "</div>\n",
              "      <button class=\"colab-df-convert\" onclick=\"convertToInteractive('df-69f7781e-4f2a-4a8c-9731-14af52dd25fd')\"\n",
              "              title=\"Convert this dataframe to an interactive table.\"\n",
              "              style=\"display:none;\">\n",
              "        \n",
              "  <svg xmlns=\"http://www.w3.org/2000/svg\" height=\"24px\"viewBox=\"0 0 24 24\"\n",
              "       width=\"24px\">\n",
              "    <path d=\"M0 0h24v24H0V0z\" fill=\"none\"/>\n",
              "    <path d=\"M18.56 5.44l.94 2.06.94-2.06 2.06-.94-2.06-.94-.94-2.06-.94 2.06-2.06.94zm-11 1L8.5 8.5l.94-2.06 2.06-.94-2.06-.94L8.5 2.5l-.94 2.06-2.06.94zm10 10l.94 2.06.94-2.06 2.06-.94-2.06-.94-.94-2.06-.94 2.06-2.06.94z\"/><path d=\"M17.41 7.96l-1.37-1.37c-.4-.4-.92-.59-1.43-.59-.52 0-1.04.2-1.43.59L10.3 9.45l-7.72 7.72c-.78.78-.78 2.05 0 2.83L4 21.41c.39.39.9.59 1.41.59.51 0 1.02-.2 1.41-.59l7.78-7.78 2.81-2.81c.8-.78.8-2.07 0-2.86zM5.41 20L4 18.59l7.72-7.72 1.47 1.35L5.41 20z\"/>\n",
              "  </svg>\n",
              "      </button>\n",
              "      \n",
              "  <style>\n",
              "    .colab-df-container {\n",
              "      display:flex;\n",
              "      flex-wrap:wrap;\n",
              "      gap: 12px;\n",
              "    }\n",
              "\n",
              "    .colab-df-convert {\n",
              "      background-color: #E8F0FE;\n",
              "      border: none;\n",
              "      border-radius: 50%;\n",
              "      cursor: pointer;\n",
              "      display: none;\n",
              "      fill: #1967D2;\n",
              "      height: 32px;\n",
              "      padding: 0 0 0 0;\n",
              "      width: 32px;\n",
              "    }\n",
              "\n",
              "    .colab-df-convert:hover {\n",
              "      background-color: #E2EBFA;\n",
              "      box-shadow: 0px 1px 2px rgba(60, 64, 67, 0.3), 0px 1px 3px 1px rgba(60, 64, 67, 0.15);\n",
              "      fill: #174EA6;\n",
              "    }\n",
              "\n",
              "    [theme=dark] .colab-df-convert {\n",
              "      background-color: #3B4455;\n",
              "      fill: #D2E3FC;\n",
              "    }\n",
              "\n",
              "    [theme=dark] .colab-df-convert:hover {\n",
              "      background-color: #434B5C;\n",
              "      box-shadow: 0px 1px 3px 1px rgba(0, 0, 0, 0.15);\n",
              "      filter: drop-shadow(0px 1px 2px rgba(0, 0, 0, 0.3));\n",
              "      fill: #FFFFFF;\n",
              "    }\n",
              "  </style>\n",
              "\n",
              "      <script>\n",
              "        const buttonEl =\n",
              "          document.querySelector('#df-69f7781e-4f2a-4a8c-9731-14af52dd25fd button.colab-df-convert');\n",
              "        buttonEl.style.display =\n",
              "          google.colab.kernel.accessAllowed ? 'block' : 'none';\n",
              "\n",
              "        async function convertToInteractive(key) {\n",
              "          const element = document.querySelector('#df-69f7781e-4f2a-4a8c-9731-14af52dd25fd');\n",
              "          const dataTable =\n",
              "            await google.colab.kernel.invokeFunction('convertToInteractive',\n",
              "                                                     [key], {});\n",
              "          if (!dataTable) return;\n",
              "\n",
              "          const docLinkHtml = 'Like what you see? Visit the ' +\n",
              "            '<a target=\"_blank\" href=https://colab.research.google.com/notebooks/data_table.ipynb>data table notebook</a>'\n",
              "            + ' to learn more about interactive tables.';\n",
              "          element.innerHTML = '';\n",
              "          dataTable['output_type'] = 'display_data';\n",
              "          await google.colab.output.renderOutput(dataTable, element);\n",
              "          const docLink = document.createElement('div');\n",
              "          docLink.innerHTML = docLinkHtml;\n",
              "          element.appendChild(docLink);\n",
              "        }\n",
              "      </script>\n",
              "    </div>\n",
              "  </div>\n",
              "  "
            ]
          },
          "metadata": {},
          "execution_count": 40
        }
      ]
    },
    {
      "cell_type": "code",
      "source": [
        "top_plt = plt.subplot2grid((5,4), (0, 0), rowspan=3, colspan=4)\n",
        "top_plt.plot(dataset.date, dataset[\"price\"])\n",
        "plt.title('Historical stock prices of Bitcoin [01-01-2015 to 20-10-2022]')\n",
        "bottom_plt = plt.subplot2grid((5,4), (3,0), rowspan=1, colspan=4)\n",
        "bottom_plt.bar(dataset.date, dataset['total_volume'])\n",
        "plt.title('\\nBitcoin Trading Volume', y=-0.60)\n",
        "plt.gcf().set_size_inches(16,10)"
      ],
      "metadata": {
        "execution": {
          "iopub.status.busy": "2022-12-14T01:35:56.187628Z",
          "iopub.execute_input": "2022-12-14T01:35:56.188231Z",
          "iopub.status.idle": "2022-12-14T01:36:02.252393Z",
          "shell.execute_reply.started": "2022-12-14T01:35:56.188196Z",
          "shell.execute_reply": "2022-12-14T01:36:02.251154Z"
        },
        "trusted": true,
        "colab": {
          "base_uri": "https://localhost:8080/",
          "height": 532
        },
        "id": "gOBKtVxpmuuw",
        "outputId": "e203a89a-7333-429e-907e-d4729366ece1"
      },
      "execution_count": null,
      "outputs": [
        {
          "output_type": "display_data",
          "data": {
            "text/plain": [
              "<Figure size 1152x720 with 2 Axes>"
            ],
            "image/png": "[encoded data removed]"
          },
          "metadata": {
            "needs_background": "light"
          }
        }
      ]
    },
    {
      "cell_type": "code",
      "source": [
        "dataset.describe()"
      ],
      "metadata": {
        "execution": {
          "iopub.status.busy": "2022-12-14T01:36:04.865345Z",
          "iopub.execute_input": "2022-12-14T01:36:04.865787Z",
          "iopub.status.idle": "2022-12-14T01:36:04.897774Z",
          "shell.execute_reply.started": "2022-12-14T01:36:04.865749Z",
          "shell.execute_reply": "2022-12-14T01:36:04.896363Z"
        },
        "trusted": true,
        "colab": {
          "base_uri": "https://localhost:8080/",
          "height": 300
        },
        "id": "XPdQt_i2muux",
        "outputId": "23061449-e57d-4bb1-86bc-42574d724ed2"
      },
      "execution_count": null,
      "outputs": [
        {
          "output_type": "execute_result",
          "data": {
            "text/plain": [
              "              price  total_volume    market_cap\n",
              "count   2903.000000  2.903000e+03  2.902000e+03\n",
              "mean   13303.644712  1.693696e+10  2.462377e+11\n",
              "std    16368.268775  2.324151e+10  3.096544e+11\n",
              "min      172.147900  1.823845e+07  2.362640e+09\n",
              "25%      843.838150  1.002153e+09  1.345601e+10\n",
              "50%     7309.689244  5.969709e+09  1.295735e+11\n",
              "75%    17769.365132  2.753158e+10  3.291796e+11\n",
              "max    67617.015545  4.293082e+11  1.278798e+12"
            ],
            "text/html": [
              "\n",
              "  <div id=\"df-2407ba59-ffba-4ad5-a416-03370ee83d44\">\n",
              "    <div class=\"colab-df-container\">\n",
              "      <div>\n",
              "<style scoped>\n",
              "    .dataframe tbody tr th:only-of-type {\n",
              "        vertical-align: middle;\n",
              "    }\n",
              "\n",
              "    .dataframe tbody tr th {\n",
              "        vertical-align: top;\n",
              "    }\n",
              "\n",
              "    .dataframe thead th {\n",
              "        text-align: right;\n",
              "    }\n",
              "</style>\n",
              "<table border=\"1\" class=\"dataframe\">\n",
              "  <thead>\n",
              "    <tr style=\"text-align: right;\">\n",
              "      <th></th>\n",
              "      <th>price</th>\n",
              "      <th>total_volume</th>\n",
              "      <th>market_cap</th>\n",
              "    </tr>\n",
              "  </thead>\n",
              "  <tbody>\n",
              "    <tr>\n",
              "      <th>count</th>\n",
              "      <td>2903.000000</td>\n",
              "      <td>2.903000e+03</td>\n",
              "      <td>2.902000e+03</td>\n",
              "    </tr>\n",
              "    <tr>\n",
              "      <th>mean</th>\n",
              "      <td>13303.644712</td>\n",
              "      <td>1.693696e+10</td>\n",
              "      <td>2.462377e+11</td>\n",
              "    </tr>\n",
              "    <tr>\n",
              "      <th>std</th>\n",
              "      <td>16368.268775</td>\n",
              "      <td>2.324151e+10</td>\n",
              "      <td>3.096544e+11</td>\n",
              "    </tr>\n",
              "    <tr>\n",
              "      <th>min</th>\n",
              "      <td>172.147900</td>\n",
              "      <td>1.823845e+07</td>\n",
              "      <td>2.362640e+09</td>\n",
              "    </tr>\n",
              "    <tr>\n",
              "      <th>25%</th>\n",
              "      <td>843.838150</td>\n",
              "      <td>1.002153e+09</td>\n",
              "      <td>1.345601e+10</td>\n",
              "    </tr>\n",
              "    <tr>\n",
              "      <th>50%</th>\n",
              "      <td>7309.689244</td>\n",
              "      <td>5.969709e+09</td>\n",
              "      <td>1.295735e+11</td>\n",
              "    </tr>\n",
              "    <tr>\n",
              "      <th>75%</th>\n",
              "      <td>17769.365132</td>\n",
              "      <td>2.753158e+10</td>\n",
              "      <td>3.291796e+11</td>\n",
              "    </tr>\n",
              "    <tr>\n",
              "      <th>max</th>\n",
              "      <td>67617.015545</td>\n",
              "      <td>4.293082e+11</td>\n",
              "      <td>1.278798e+12</td>\n",
              "    </tr>\n",
              "  </tbody>\n",
              "</table>\n",
              "</div>\n",
              "      <button class=\"colab-df-convert\" onclick=\"convertToInteractive('df-2407ba59-ffba-4ad5-a416-03370ee83d44')\"\n",
              "              title=\"Convert this dataframe to an interactive table.\"\n",
              "              style=\"display:none;\">\n",
              "        \n",
              "  <svg xmlns=\"http://www.w3.org/2000/svg\" height=\"24px\"viewBox=\"0 0 24 24\"\n",
              "       width=\"24px\">\n",
              "    <path d=\"M0 0h24v24H0V0z\" fill=\"none\"/>\n",
              "    <path d=\"M18.56 5.44l.94 2.06.94-2.06 2.06-.94-2.06-.94-.94-2.06-.94 2.06-2.06.94zm-11 1L8.5 8.5l.94-2.06 2.06-.94-2.06-.94L8.5 2.5l-.94 2.06-2.06.94zm10 10l.94 2.06.94-2.06 2.06-.94-2.06-.94-.94-2.06-.94 2.06-2.06.94z\"/><path d=\"M17.41 7.96l-1.37-1.37c-.4-.4-.92-.59-1.43-.59-.52 0-1.04.2-1.43.59L10.3 9.45l-7.72 7.72c-.78.78-.78 2.05 0 2.83L4 21.41c.39.39.9.59 1.41.59.51 0 1.02-.2 1.41-.59l7.78-7.78 2.81-2.81c.8-.78.8-2.07 0-2.86zM5.41 20L4 18.59l7.72-7.72 1.47 1.35L5.41 20z\"/>\n",
              "  </svg>\n",
              "      </button>\n",
              "      \n",
              "  <style>\n",
              "    .colab-df-container {\n",
              "      display:flex;\n",
              "      flex-wrap:wrap;\n",
              "      gap: 12px;\n",
              "    }\n",
              "\n",
              "    .colab-df-convert {\n",
              "      background-color: #E8F0FE;\n",
              "      border: none;\n",
              "      border-radius: 50%;\n",
              "      cursor: pointer;\n",
              "      display: none;\n",
              "      fill: #1967D2;\n",
              "      height: 32px;\n",
              "      padding: 0 0 0 0;\n",
              "      width: 32px;\n",
              "    }\n",
              "\n",
              "    .colab-df-convert:hover {\n",
              "      background-color: #E2EBFA;\n",
              "      box-shadow: 0px 1px 2px rgba(60, 64, 67, 0.3), 0px 1px 3px 1px rgba(60, 64, 67, 0.15);\n",
              "      fill: #174EA6;\n",
              "    }\n",
              "\n",
              "    [theme=dark] .colab-df-convert {\n",
              "      background-color: #3B4455;\n",
              "      fill: #D2E3FC;\n",
              "    }\n",
              "\n",
              "    [theme=dark] .colab-df-convert:hover {\n",
              "      background-color: #434B5C;\n",
              "      box-shadow: 0px 1px 3px 1px rgba(0, 0, 0, 0.15);\n",
              "      filter: drop-shadow(0px 1px 2px rgba(0, 0, 0, 0.3));\n",
              "      fill: #FFFFFF;\n",
              "    }\n",
              "  </style>\n",
              "\n",
              "      <script>\n",
              "        const buttonEl =\n",
              "          document.querySelector('#df-2407ba59-ffba-4ad5-a416-03370ee83d44 button.colab-df-convert');\n",
              "        buttonEl.style.display =\n",
              "          google.colab.kernel.accessAllowed ? 'block' : 'none';\n",
              "\n",
              "        async function convertToInteractive(key) {\n",
              "          const element = document.querySelector('#df-2407ba59-ffba-4ad5-a416-03370ee83d44');\n",
              "          const dataTable =\n",
              "            await google.colab.kernel.invokeFunction('convertToInteractive',\n",
              "                                                     [key], {});\n",
              "          if (!dataTable) return;\n",
              "\n",
              "          const docLinkHtml = 'Like what you see? Visit the ' +\n",
              "            '<a target=\"_blank\" href=https://colab.research.google.com/notebooks/data_table.ipynb>data table notebook</a>'\n",
              "            + ' to learn more about interactive tables.';\n",
              "          element.innerHTML = '';\n",
              "          dataTable['output_type'] = 'display_data';\n",
              "          await google.colab.output.renderOutput(dataTable, element);\n",
              "          const docLink = document.createElement('div');\n",
              "          docLink.innerHTML = docLinkHtml;\n",
              "          element.appendChild(docLink);\n",
              "        }\n",
              "      </script>\n",
              "    </div>\n",
              "  </div>\n",
              "  "
            ]
          },
          "metadata": {},
          "execution_count": 42
        }
      ]
    },
    {
      "cell_type": "markdown",
      "source": [
        "## **<span>2.3 Check datatype of Adj Close price </span>**"
      ],
      "metadata": {
        "id": "Or5zAmjFmuux"
      }
    },
    {
      "cell_type": "code",
      "source": [
        "dataset['price'].dtype"
      ],
      "metadata": {
        "execution": {
          "iopub.status.busy": "2022-12-14T01:36:07.266580Z",
          "iopub.execute_input": "2022-12-14T01:36:07.266994Z",
          "iopub.status.idle": "2022-12-14T01:36:07.277059Z",
          "shell.execute_reply.started": "2022-12-14T01:36:07.266960Z",
          "shell.execute_reply": "2022-12-14T01:36:07.275434Z"
        },
        "trusted": true,
        "colab": {
          "base_uri": "https://localhost:8080/"
        },
        "id": "WtsFOufGmuuy",
        "outputId": "4f25ad7a-c438-43bc-e35a-8f4b65db3fe8"
      },
      "execution_count": null,
      "outputs": [
        {
          "output_type": "execute_result",
          "data": {
            "text/plain": [
              "dtype('float64')"
            ]
          },
          "metadata": {},
          "execution_count": 43
        }
      ]
    },
    {
      "cell_type": "markdown",
      "source": [
        "##  **<span>2.4 Find Correlation  </span>**"
      ],
      "metadata": {
        "id": "V7Ka_vTomuuy"
      }
    },
    {
      "cell_type": "code",
      "source": [
        "import seaborn as sns\n",
        "# plotting correlation heatmap\n",
        "plt.figure(figsize = (10, 6))\n",
        "dataplot = sns.heatmap(dataset[['price', 'total_volume', 'market_cap']].corr(), cmap=\"BuPu\", annot=True, \n",
        "                      fmt=\".1f\")\n",
        "plt.show()"
      ],
      "metadata": {
        "execution": {
          "iopub.status.busy": "2022-12-14T01:36:09.356502Z",
          "iopub.execute_input": "2022-12-14T01:36:09.356933Z",
          "iopub.status.idle": "2022-12-14T01:36:10.259677Z",
          "shell.execute_reply.started": "2022-12-14T01:36:09.356894Z",
          "shell.execute_reply": "2022-12-14T01:36:10.258529Z"
        },
        "trusted": true,
        "colab": {
          "base_uri": "https://localhost:8080/",
          "height": 382
        },
        "id": "X596pyZSmuuz",
        "outputId": "abd3e97b-15b9-4efe-c875-5e54f7abddbc"
      },
      "execution_count": null,
      "outputs": [
        {
          "output_type": "display_data",
          "data": {
            "text/plain": [
              "<Figure size 720x432 with 2 Axes>"
            ],
            "image/png": "[encoded data removed]"
          },
          "metadata": {
            "needs_background": "light"
          }
        }
      ]
    },
    {
      "cell_type": "code",
      "source": [
        "dataset2 = dataset[['price', 'total_volume']]\n",
        "dataset2.head()"
      ],
      "metadata": {
        "execution": {
          "iopub.status.busy": "2022-12-14T01:36:12.873775Z",
          "iopub.execute_input": "2022-12-14T01:36:12.874202Z",
          "iopub.status.idle": "2022-12-14T01:36:12.887991Z",
          "shell.execute_reply.started": "2022-12-14T01:36:12.874166Z",
          "shell.execute_reply": "2022-12-14T01:36:12.886837Z"
        },
        "trusted": true,
        "colab": {
          "base_uri": "https://localhost:8080/",
          "height": 206
        },
        "id": "NCinD84qmuuz",
        "outputId": "6852eb7a-89a3-4d3f-b13d-35c45b3ab837"
      },
      "execution_count": null,
      "outputs": [
        {
          "output_type": "execute_result",
          "data": {
            "text/plain": [
              "     price  total_volume\n",
              "0  313.992  4.699936e+07\n",
              "1  314.446  3.885591e+07\n",
              "2  286.572  1.187789e+08\n",
              "3  260.936  2.055001e+08\n",
              "4  273.220  1.550381e+08"
            ],
            "text/html": [
              "\n",
              "  <div id=\"df-a602db6d-dbb0-4cb6-938d-a904acda3595\">\n",
              "    <div class=\"colab-df-container\">\n",
              "      <div>\n",
              "<style scoped>\n",
              "    .dataframe tbody tr th:only-of-type {\n",
              "        vertical-align: middle;\n",
              "    }\n",
              "\n",
              "    .dataframe tbody tr th {\n",
              "        vertical-align: top;\n",
              "    }\n",
              "\n",
              "    .dataframe thead th {\n",
              "        text-align: right;\n",
              "    }\n",
              "</style>\n",
              "<table border=\"1\" class=\"dataframe\">\n",
              "  <thead>\n",
              "    <tr style=\"text-align: right;\">\n",
              "      <th></th>\n",
              "      <th>price</th>\n",
              "      <th>total_volume</th>\n",
              "    </tr>\n",
              "  </thead>\n",
              "  <tbody>\n",
              "    <tr>\n",
              "      <th>0</th>\n",
              "      <td>313.992</td>\n",
              "      <td>4.699936e+07</td>\n",
              "    </tr>\n",
              "    <tr>\n",
              "      <th>1</th>\n",
              "      <td>314.446</td>\n",
              "      <td>3.885591e+07</td>\n",
              "    </tr>\n",
              "    <tr>\n",
              "      <th>2</th>\n",
              "      <td>286.572</td>\n",
              "      <td>1.187789e+08</td>\n",
              "    </tr>\n",
              "    <tr>\n",
              "      <th>3</th>\n",
              "      <td>260.936</td>\n",
              "      <td>2.055001e+08</td>\n",
              "    </tr>\n",
              "    <tr>\n",
              "      <th>4</th>\n",
              "      <td>273.220</td>\n",
              "      <td>1.550381e+08</td>\n",
              "    </tr>\n",
              "  </tbody>\n",
              "</table>\n",
              "</div>\n",
              "      <button class=\"colab-df-convert\" onclick=\"convertToInteractive('df-a602db6d-dbb0-4cb6-938d-a904acda3595')\"\n",
              "              title=\"Convert this dataframe to an interactive table.\"\n",
              "              style=\"display:none;\">\n",
              "        \n",
              "  <svg xmlns=\"http://www.w3.org/2000/svg\" height=\"24px\"viewBox=\"0 0 24 24\"\n",
              "       width=\"24px\">\n",
              "    <path d=\"M0 0h24v24H0V0z\" fill=\"none\"/>\n",
              "    <path d=\"M18.56 5.44l.94 2.06.94-2.06 2.06-.94-2.06-.94-.94-2.06-.94 2.06-2.06.94zm-11 1L8.5 8.5l.94-2.06 2.06-.94-2.06-.94L8.5 2.5l-.94 2.06-2.06.94zm10 10l.94 2.06.94-2.06 2.06-.94-2.06-.94-.94-2.06-.94 2.06-2.06.94z\"/><path d=\"M17.41 7.96l-1.37-1.37c-.4-.4-.92-.59-1.43-.59-.52 0-1.04.2-1.43.59L10.3 9.45l-7.72 7.72c-.78.78-.78 2.05 0 2.83L4 21.41c.39.39.9.59 1.41.59.51 0 1.02-.2 1.41-.59l7.78-7.78 2.81-2.81c.8-.78.8-2.07 0-2.86zM5.41 20L4 18.59l7.72-7.72 1.47 1.35L5.41 20z\"/>\n",
              "  </svg>\n",
              "      </button>\n",
              "      \n",
              "  <style>\n",
              "    .colab-df-container {\n",
              "      display:flex;\n",
              "      flex-wrap:wrap;\n",
              "      gap: 12px;\n",
              "    }\n",
              "\n",
              "    .colab-df-convert {\n",
              "      background-color: #E8F0FE;\n",
              "      border: none;\n",
              "      border-radius: 50%;\n",
              "      cursor: pointer;\n",
              "      display: none;\n",
              "      fill: #1967D2;\n",
              "      height: 32px;\n",
              "      padding: 0 0 0 0;\n",
              "      width: 32px;\n",
              "    }\n",
              "\n",
              "    .colab-df-convert:hover {\n",
              "      background-color: #E2EBFA;\n",
              "      box-shadow: 0px 1px 2px rgba(60, 64, 67, 0.3), 0px 1px 3px 1px rgba(60, 64, 67, 0.15);\n",
              "      fill: #174EA6;\n",
              "    }\n",
              "\n",
              "    [theme=dark] .colab-df-convert {\n",
              "      background-color: #3B4455;\n",
              "      fill: #D2E3FC;\n",
              "    }\n",
              "\n",
              "    [theme=dark] .colab-df-convert:hover {\n",
              "      background-color: #434B5C;\n",
              "      box-shadow: 0px 1px 3px 1px rgba(0, 0, 0, 0.15);\n",
              "      filter: drop-shadow(0px 1px 2px rgba(0, 0, 0, 0.3));\n",
              "      fill: #FFFFFF;\n",
              "    }\n",
              "  </style>\n",
              "\n",
              "      <script>\n",
              "        const buttonEl =\n",
              "          document.querySelector('#df-a602db6d-dbb0-4cb6-938d-a904acda3595 button.colab-df-convert');\n",
              "        buttonEl.style.display =\n",
              "          google.colab.kernel.accessAllowed ? 'block' : 'none';\n",
              "\n",
              "        async function convertToInteractive(key) {\n",
              "          const element = document.querySelector('#df-a602db6d-dbb0-4cb6-938d-a904acda3595');\n",
              "          const dataTable =\n",
              "            await google.colab.kernel.invokeFunction('convertToInteractive',\n",
              "                                                     [key], {});\n",
              "          if (!dataTable) return;\n",
              "\n",
              "          const docLinkHtml = 'Like what you see? Visit the ' +\n",
              "            '<a target=\"_blank\" href=https://colab.research.google.com/notebooks/data_table.ipynb>data table notebook</a>'\n",
              "            + ' to learn more about interactive tables.';\n",
              "          element.innerHTML = '';\n",
              "          dataTable['output_type'] = 'display_data';\n",
              "          await google.colab.output.renderOutput(dataTable, element);\n",
              "          const docLink = document.createElement('div');\n",
              "          docLink.innerHTML = docLinkHtml;\n",
              "          element.appendChild(docLink);\n",
              "        }\n",
              "      </script>\n",
              "    </div>\n",
              "  </div>\n",
              "  "
            ]
          },
          "metadata": {},
          "execution_count": 45
        }
      ]
    },
    {
      "cell_type": "markdown",
      "source": [
        "##  **<span> 2.5 - ADF Test  </span>** \n",
        "\n"
      ],
      "metadata": {
        "id": "HdUmMqpbmuuz"
      }
    },
    {
      "cell_type": "code",
      "source": [
        "from statsmodels.tsa.stattools import adfuller\n",
        "result = adfuller(dataset2.price.values, autolag='AIC')\n",
        "print(f'ADF Statistic: {result[0]}')\n",
        "print(f'p-value: {result[1]}')\n",
        "for key, value in result[4].items():\n",
        "    print('Critial Values:')\n",
        "    print(f'   {key}, {value}')"
      ],
      "metadata": {
        "execution": {
          "iopub.status.busy": "2022-12-14T01:36:15.373217Z",
          "iopub.execute_input": "2022-12-14T01:36:15.373625Z",
          "iopub.status.idle": "2022-12-14T01:36:15.856908Z",
          "shell.execute_reply.started": "2022-12-14T01:36:15.373592Z",
          "shell.execute_reply": "2022-12-14T01:36:15.852206Z"
        },
        "trusted": true,
        "colab": {
          "base_uri": "https://localhost:8080/"
        },
        "id": "JONXiq-Lmuu0",
        "outputId": "36e2459c-f808-4c8a-bb43-7ab01b76f0e8"
      },
      "execution_count": null,
      "outputs": [
        {
          "output_type": "stream",
          "name": "stdout",
          "text": [
            "ADF Statistic: -1.695924500994944\n",
            "p-value: 0.43321351047931267\n",
            "Critial Values:\n",
            "   1%, -3.432627366129768\n",
            "Critial Values:\n",
            "   5%, -2.862546185823105\n",
            "Critial Values:\n",
            "   10%, -2.567305621914905\n"
          ]
        }
      ]
    },
    {
      "cell_type": "markdown",
      "source": [
        "## **<span> 2.6 - Let's apply log transformation to the data and test again </span>** "
      ],
      "metadata": {
        "id": "MU0FbUZRmuu0"
      }
    },
    {
      "cell_type": "code",
      "source": [
        "from numpy import log\n",
        "\n",
        "result = adfuller((log(dataset2.price.values)), autolag='AIC')\n",
        "print(f'ADF Statistic: {result[0]}')\n",
        "print(f'p-value: {result[1]}')\n",
        "for key, value in result[4].items():\n",
        "    print('Critial Values:')\n",
        "    print(f'   {key}, {value}')"
      ],
      "metadata": {
        "execution": {
          "iopub.status.busy": "2022-12-14T01:36:18.481313Z",
          "iopub.execute_input": "2022-12-14T01:36:18.481757Z",
          "iopub.status.idle": "2022-12-14T01:36:18.790483Z",
          "shell.execute_reply.started": "2022-12-14T01:36:18.481701Z",
          "shell.execute_reply": "2022-12-14T01:36:18.788575Z"
        },
        "trusted": true,
        "colab": {
          "base_uri": "https://localhost:8080/"
        },
        "id": "T8A-1HhWmuu0",
        "outputId": "3c128680-ce93-4ad9-9c1c-c8ad007c1f3e"
      },
      "execution_count": null,
      "outputs": [
        {
          "output_type": "stream",
          "name": "stdout",
          "text": [
            "ADF Statistic: -1.3944552232828693\n",
            "p-value: 0.5849314484383357\n",
            "Critial Values:\n",
            "   1%, -3.432606151575025\n",
            "Critial Values:\n",
            "   5%, -2.8625368163579603\n",
            "Critial Values:\n",
            "   10%, -2.567300633673491\n"
          ]
        }
      ]
    },
    {
      "cell_type": "code",
      "source": [
        "from statsmodels.tsa.stattools import kpss\n",
        "\n",
        "result = kpss(dataset2['price'].values, regression='c')\n",
        "print('\\nKPSS Statistic: %f' % result[0])\n",
        "print('p-value: %f' % result[1])\n",
        "for key, value in result[3].items():\n",
        "    print('Critial Values:')\n",
        "    print(f'   {key}, {value}');"
      ],
      "metadata": {
        "execution": {
          "iopub.status.busy": "2022-12-14T01:36:20.860675Z",
          "iopub.execute_input": "2022-12-14T01:36:20.861096Z",
          "iopub.status.idle": "2022-12-14T01:36:20.872891Z",
          "shell.execute_reply.started": "2022-12-14T01:36:20.861061Z",
          "shell.execute_reply": "2022-12-14T01:36:20.871472Z"
        },
        "trusted": true,
        "colab": {
          "base_uri": "https://localhost:8080/"
        },
        "id": "5xhCyrYvmuu1",
        "outputId": "3f67f229-a294-47ee-8cbe-6eb9fcb096f3"
      },
      "execution_count": null,
      "outputs": [
        {
          "output_type": "stream",
          "name": "stdout",
          "text": [
            "\n",
            "KPSS Statistic: 6.318704\n",
            "p-value: 0.010000\n",
            "Critial Values:\n",
            "   10%, 0.347\n",
            "Critial Values:\n",
            "   5%, 0.463\n",
            "Critial Values:\n",
            "   2.5%, 0.574\n",
            "Critial Values:\n",
            "   1%, 0.739\n"
          ]
        },
        {
          "output_type": "stream",
          "name": "stderr",
          "text": [
            "/usr/local/lib/python3.8/dist-packages/statsmodels/tsa/stattools.py:1875: FutureWarning: The behavior of using nlags=None will change in release 0.13.Currently nlags=None is the same as nlags=\"legacy\", and so a sample-size lag length is used. After the next release, the default will change to be the same as nlags=\"auto\" which uses an automatic lag length selection method. To silence this warning, either use \"auto\" or \"legacy\"\n",
            "  warnings.warn(msg, FutureWarning)\n",
            "/usr/local/lib/python3.8/dist-packages/statsmodels/tsa/stattools.py:1906: InterpolationWarning: The test statistic is outside of the range of p-values available in the\n",
            "look-up table. The actual p-value is smaller than the p-value returned.\n",
            "\n",
            "  warnings.warn(\n"
          ]
        }
      ]
    },
    {
      "cell_type": "code",
      "source": [
        "from statsmodels.graphics.tsaplots import plot_acf\n",
        "from statsmodels.graphics.tsaplots import plot_pacf\n",
        "import matplotlib.pyplot as plt"
      ],
      "metadata": {
        "execution": {
          "iopub.status.busy": "2022-12-14T01:36:28.274996Z",
          "iopub.execute_input": "2022-12-14T01:36:28.275421Z",
          "iopub.status.idle": "2022-12-14T01:36:28.281141Z",
          "shell.execute_reply.started": "2022-12-14T01:36:28.275385Z",
          "shell.execute_reply": "2022-12-14T01:36:28.280062Z"
        },
        "trusted": true,
        "id": "PyA2Iel_muu1"
      },
      "execution_count": null,
      "outputs": []
    },
    {
      "cell_type": "markdown",
      "source": [
        "#  **<span> 3.Bitcoin price forecasting  </span>**\n",
        "\n"
      ],
      "metadata": {
        "id": "CNFdz3-Jmuu1"
      }
    },
    {
      "cell_type": "markdown",
      "source": [
        "## **<span> 3.1 Load Data - \"price\" data  </span>**"
      ],
      "metadata": {
        "id": "4zDonCKimuu1"
      }
    },
    {
      "cell_type": "code",
      "source": [
        "data = dataset2['price'].values\n",
        "print('Shape of data: ', data.shape)"
      ],
      "metadata": {
        "execution": {
          "iopub.status.busy": "2022-12-14T01:36:34.941819Z",
          "iopub.execute_input": "2022-12-14T01:36:34.942207Z",
          "iopub.status.idle": "2022-12-14T01:36:34.948505Z",
          "shell.execute_reply.started": "2022-12-14T01:36:34.942174Z",
          "shell.execute_reply": "2022-12-14T01:36:34.947279Z"
        },
        "trusted": true,
        "colab": {
          "base_uri": "https://localhost:8080/"
        },
        "id": "IxUegneYmuu1",
        "outputId": "2eb1d505-a52d-434f-9f5e-6b1d98ca9aa9"
      },
      "execution_count": null,
      "outputs": [
        {
          "output_type": "stream",
          "name": "stdout",
          "text": [
            "Shape of data:  (2903,)\n"
          ]
        }
      ]
    },
    {
      "cell_type": "markdown",
      "source": [
        "## **<span> 3.2 Separate Train and Test data  </span>**"
      ],
      "metadata": {
        "id": "UCY9qb3qmuu2"
      }
    },
    {
      "cell_type": "code",
      "source": [
        "# Separate train and test data\n",
        "train_length = int(len(data) * 0.8)\n",
        "print('Train length: ', train_length)\n",
        "\n",
        "train_data, test_data = data[:train_length], data[train_length:]\n",
        "print('Shape of Train and Test data: ', train_data.shape, test_data.shape)"
      ],
      "metadata": {
        "execution": {
          "iopub.status.busy": "2022-12-14T01:36:46.203596Z",
          "iopub.execute_input": "2022-12-14T01:36:46.203996Z",
          "iopub.status.idle": "2022-12-14T01:36:46.211082Z",
          "shell.execute_reply.started": "2022-12-14T01:36:46.203964Z",
          "shell.execute_reply": "2022-12-14T01:36:46.209634Z"
        },
        "trusted": true,
        "colab": {
          "base_uri": "https://localhost:8080/"
        },
        "id": "Yjfv2gSAmuu2",
        "outputId": "4fd4921a-1608-41db-90b5-cba3a4a1ad34"
      },
      "execution_count": null,
      "outputs": [
        {
          "output_type": "stream",
          "name": "stdout",
          "text": [
            "Train length:  2322\n",
            "Shape of Train and Test data:  (2322,) (581,)\n"
          ]
        }
      ]
    },
    {
      "cell_type": "markdown",
      "source": [
        "## **<span> 3.3 Change Shape - Need 2D data  </span>**"
      ],
      "metadata": {
        "id": "9F0Y31kdmuu2"
      }
    },
    {
      "cell_type": "code",
      "source": [
        "train_data = train_data.reshape(-1, 1)\n",
        "test_data = test_data.reshape(-1, 1)\n",
        "print('Shape of Train and Test data: ', train_data.shape, test_data.shape)"
      ],
      "metadata": {
        "execution": {
          "iopub.status.busy": "2022-12-14T01:36:58.334079Z",
          "iopub.execute_input": "2022-12-14T01:36:58.334475Z",
          "iopub.status.idle": "2022-12-14T01:36:58.340335Z",
          "shell.execute_reply.started": "2022-12-14T01:36:58.334440Z",
          "shell.execute_reply": "2022-12-14T01:36:58.339354Z"
        },
        "trusted": true,
        "colab": {
          "base_uri": "https://localhost:8080/"
        },
        "id": "U__lmIjXmuu2",
        "outputId": "089c0a2f-72fe-476e-c5c8-3516e4422763"
      },
      "execution_count": null,
      "outputs": [
        {
          "output_type": "stream",
          "name": "stdout",
          "text": [
            "Shape of Train and Test data:  (2322, 1) (581, 1)\n"
          ]
        }
      ]
    },
    {
      "cell_type": "markdown",
      "source": [
        "## **<span> 3.4 Split a Univariate sequence to Supervised Learning  </span>**"
      ],
      "metadata": {
        "id": "hOxVk9fAmuu2"
      }
    },
    {
      "cell_type": "code",
      "source": [
        "# split a univariate sequence into supervised learning [Input and Output]\n",
        "def create_dataset(dataset, lookback):\n",
        "    dataX, dataY = [], []\n",
        "    for i in range(len(dataset) - lookback -1):\n",
        "        a = dataset[i: (i+lookback), 0]\n",
        "        dataX.append(a)\n",
        "        b = dataset[i+lookback, 0]\n",
        "        dataY.append(b)\n",
        "    return np.array(dataX), np.array(dataY)"
      ],
      "metadata": {
        "execution": {
          "iopub.status.busy": "2022-12-14T01:37:16.936386Z",
          "iopub.execute_input": "2022-12-14T01:37:16.936804Z",
          "iopub.status.idle": "2022-12-14T01:37:16.943246Z",
          "shell.execute_reply.started": "2022-12-14T01:37:16.936768Z",
          "shell.execute_reply": "2022-12-14T01:37:16.942015Z"
        },
        "trusted": true,
        "id": "DC1ezx4Jmuu2"
      },
      "execution_count": null,
      "outputs": []
    },
    {
      "cell_type": "markdown",
      "source": [
        "###  **<span> 3.5 Automatically select Lag value from ACF and PACF graph  </span>**"
      ],
      "metadata": {
        "id": "vnuuF0uImuu3"
      }
    },
    {
      "cell_type": "code",
      "source": [
        "plot_acf(data, lags=40)\n",
        "plt.show()"
      ],
      "metadata": {
        "colab": {
          "base_uri": "https://localhost:8080/",
          "height": 285
        },
        "id": "obpQdkUNpHvg",
        "outputId": "b1910897-b994-4b44-f67a-e3d09dc4feab"
      },
      "execution_count": null,
      "outputs": [
        {
          "output_type": "display_data",
          "data": {
            "text/plain": [
              "<Figure size 432x288 with 1 Axes>"
            ],
            "image/png": "[encoded data removed]"
          },
          "metadata": {
            "needs_background": "light"
          }
        }
      ]
    },
    {
      "cell_type": "code",
      "source": [
        "plot_pacf(data, lags=40)\n",
        "plt.show()"
      ],
      "metadata": {
        "execution": {
          "iopub.status.busy": "2022-12-14T01:37:26.899824Z",
          "iopub.execute_input": "2022-12-14T01:37:26.900218Z",
          "iopub.status.idle": "2022-12-14T01:37:27.126823Z",
          "shell.execute_reply.started": "2022-12-14T01:37:26.900178Z",
          "shell.execute_reply": "2022-12-14T01:37:27.125628Z"
        },
        "trusted": true,
        "colab": {
          "base_uri": "https://localhost:8080/",
          "height": 285
        },
        "id": "QYMHco1pmuu3",
        "outputId": "02b035d8-1d1b-4b45-e1f4-800f9ff1d372"
      },
      "execution_count": null,
      "outputs": [
        {
          "output_type": "display_data",
          "data": {
            "text/plain": [
              "<Figure size 432x288 with 1 Axes>"
            ],
            "image/png": "[encoded data removed]"
          },
          "metadata": {
            "needs_background": "light"
          }
        }
      ]
    },
    {
      "cell_type": "markdown",
      "source": [
        "## **<span> 3.6 Taking Auto-correlation Lag value Greater than 10%  </span>**"
      ],
      "metadata": {
        "id": "xaAQ4yr0muu3"
      }
    },
    {
      "cell_type": "code",
      "source": [
        "from statsmodels.tsa.stattools import pacf\n",
        "pacf_value = pacf(data, nlags=20)\n",
        "lag = 0\n",
        "# collect lag values greater than 10% correlation \n",
        "for x in pacf_value:\n",
        "    if x > 0.1:\n",
        "        lag += 1\n",
        "    else:\n",
        "        break\n",
        "print('Selected look_back (or lag = ): ', lag)       "
      ],
      "metadata": {
        "execution": {
          "iopub.status.busy": "2022-12-14T01:37:40.131637Z",
          "iopub.execute_input": "2022-12-14T01:37:40.132561Z",
          "iopub.status.idle": "2022-12-14T01:37:40.149440Z",
          "shell.execute_reply.started": "2022-12-14T01:37:40.132513Z",
          "shell.execute_reply": "2022-12-14T01:37:40.147882Z"
        },
        "trusted": true,
        "colab": {
          "base_uri": "https://localhost:8080/"
        },
        "id": "pUOUTFO8muu3",
        "outputId": "b5fe3abf-442d-41eb-efa3-f62b13f32503"
      },
      "execution_count": null,
      "outputs": [
        {
          "output_type": "stream",
          "name": "stdout",
          "text": [
            "Selected look_back (or lag = ):  2\n"
          ]
        }
      ]
    },
    {
      "cell_type": "markdown",
      "source": [
        "##  **<span> 3.7 Separate Input and Output  </span>**"
      ],
      "metadata": {
        "id": "5GL6JPhymuu3"
      }
    },
    {
      "cell_type": "code",
      "source": [
        "train_X, train_y = create_dataset(train_data, lag)\n",
        "test_X, test_y = create_dataset(test_data, lag)"
      ],
      "metadata": {
        "execution": {
          "iopub.status.busy": "2022-12-14T01:37:50.409635Z",
          "iopub.execute_input": "2022-12-14T01:37:50.410185Z",
          "iopub.status.idle": "2022-12-14T01:37:50.421134Z",
          "shell.execute_reply.started": "2022-12-14T01:37:50.410142Z",
          "shell.execute_reply": "2022-12-14T01:37:50.420060Z"
        },
        "trusted": true,
        "id": "iz7huF3Hmuu3"
      },
      "execution_count": null,
      "outputs": []
    },
    {
      "cell_type": "code",
      "source": [
        "print('Shape of train_X and train_y: ', train_X.shape, train_y.shape)\n",
        "print('Shape of test_X and test_y: ', test_X.shape, test_y.shape)"
      ],
      "metadata": {
        "execution": {
          "iopub.status.busy": "2022-12-14T01:37:53.507461Z",
          "iopub.execute_input": "2022-12-14T01:37:53.507873Z",
          "iopub.status.idle": "2022-12-14T01:37:53.514353Z",
          "shell.execute_reply.started": "2022-12-14T01:37:53.507839Z",
          "shell.execute_reply": "2022-12-14T01:37:53.512986Z"
        },
        "trusted": true,
        "colab": {
          "base_uri": "https://localhost:8080/"
        },
        "id": "anQuWsYhmuu4",
        "outputId": "2c2cab2e-8196-48cc-ebd7-1b3cd2182d69"
      },
      "execution_count": null,
      "outputs": [
        {
          "output_type": "stream",
          "name": "stdout",
          "text": [
            "Shape of train_X and train_y:  (2319, 2) (2319,)\n",
            "Shape of test_X and test_y:  (578, 2) (578,)\n"
          ]
        }
      ]
    },
    {
      "cell_type": "markdown",
      "source": [
        "*italicized text*##  **<span> 3.8 How Data Looks Like - Input and Output  </span>**"
      ],
      "metadata": {
        "id": "sKP-y0MQmuu4"
      }
    },
    {
      "cell_type": "code",
      "source": [
        "print(train_data[:20])            # original data\n",
        "for x in range(len(train_X[:20])):\n",
        "    print(test_X[x], test_y[x], )            # trainX and trainY after lookback"
      ],
      "metadata": {
        "execution": {
          "iopub.status.busy": "2022-12-14T01:38:09.489899Z",
          "iopub.execute_input": "2022-12-14T01:38:09.490441Z",
          "iopub.status.idle": "2022-12-14T01:38:09.500195Z",
          "shell.execute_reply.started": "2022-12-14T01:38:09.490401Z",
          "shell.execute_reply": "2022-12-14T01:38:09.499013Z"
        },
        "trusted": true,
        "colab": {
          "base_uri": "https://localhost:8080/"
        },
        "id": "LFJkgPukmuu4",
        "outputId": "c525b610-d43e-4157-b67f-c4f057d0282f"
      },
      "execution_count": null,
      "outputs": [
        {
          "output_type": "stream",
          "name": "stdout",
          "text": [
            "[[313.992    ]\n",
            " [314.446    ]\n",
            " [286.572    ]\n",
            " [260.936    ]\n",
            " [273.22     ]\n",
            " [285.3738   ]\n",
            " [295.8725   ]\n",
            " [284.4525   ]\n",
            " [289.5738   ]\n",
            " [274.533    ]\n",
            " [267.184    ]\n",
            " [268.3536677]\n",
            " [221.436    ]\n",
            " [172.1479   ]\n",
            " [210.5559   ]\n",
            " [205.816    ]\n",
            " [199.4914   ]\n",
            " [208.9892   ]\n",
            " [214.545    ]\n",
            " [210.5137   ]]\n",
            "[56928.9723566  50004.76218314] 49972.79539837245\n",
            "[50004.76218314 49972.79539837] 49913.26314398822\n",
            "[49972.79539837 49913.26314399] 46780.90230468821\n",
            "[49913.26314399 46780.90230469] 46585.06413538846\n",
            "[46780.90230469 46585.06413539] 43780.82559782485\n",
            "[46585.06413539 43780.82559782] 43091.04144756922\n",
            "[43780.82559782 43091.04144757] 37287.39140242737\n",
            "[43091.04144757 37287.39140243] 40437.73009625558\n",
            "[37287.39140243 40437.73009626] 37339.63420134628\n",
            "[40437.73009626 37339.63420135] 37520.31767547438\n",
            "[37339.63420135 37520.31767547] 34977.527801962424\n",
            "[37520.31767547 34977.52780196] 38642.4422973396\n",
            "[34977.52780196 38642.44229734] 38210.80521759389\n",
            "[38642.44229734 38210.80521759] 39406.934244116186\n",
            "[38210.80521759 39406.93424412] 38642.89555434217\n",
            "[39406.93424412 38642.89555434] 35710.220936529884\n",
            "[38642.89555434 35710.22093653] 34775.07941347281\n",
            "[35710.22093653 34775.07941347] 35714.75202018067\n",
            "[34775.07941347 35714.75202018] 37340.6792659422\n",
            "[35714.75202018 37340.67926594] 36680.06820180283\n"
          ]
        }
      ]
    },
    {
      "cell_type": "markdown",
      "source": [
        "\n",
        "\n",
        "##  **<span>4. Build a model  </span>**"
      ],
      "metadata": {
        "id": "fl-zLREpmuu4"
      }
    },
    {
      "cell_type": "markdown",
      "source": [
        "\n",
        "##  **<span> 4.1 LSTM model  </span>**"
      ],
      "metadata": {
        "id": "OLYuwKbMuLri"
      }
    },
    {
      "cell_type": "code",
      "source": [
        "from tensorflow.keras.models import Sequential\n",
        "from tensorflow.keras.layers import Dense\n",
        "from tensorflow.keras.layers import LSTM\n",
        "from tensorflow.keras.layers import Dropout\n",
        "\n",
        "#copied from https://www.kaggle.com/code/akashmathur2212/bitcoin-price-prediction-arima-xgboost-lstm-fbprop/notebook#Table-of-Contents\n",
        "regressor = Sequential()\n",
        "\n",
        "# Adding the first LSTM layer and some Dropout regularisation\n",
        "regressor.add(LSTM(units = 50, return_sequences = True, input_shape = (train_X.shape[1], 1)))\n",
        "regressor.add(Dropout(0.2))\n",
        "\n",
        "# Adding a second LSTM layer and some Dropout regularisation\n",
        "regressor.add(LSTM(units = 50, return_sequences = True))\n",
        "regressor.add(Dropout(0.2))\n",
        "\n",
        "# Adding a third LSTM layer and some Dropout regularisation\n",
        "regressor.add(LSTM(units = 50, return_sequences = True))\n",
        "regressor.add(Dropout(0.2))\n",
        "\n",
        "# Adding a fourth LSTM layer and some Dropout regularisation\n",
        "regressor.add(LSTM(units = 50))\n",
        "regressor.add(Dropout(0.2))\n",
        "\n",
        "# Adding the output layer\n",
        "regressor.add(Dense(units = 1))\n",
        "\n",
        "# Compiling the RNN\n",
        "regressor.compile(optimizer = 'adam', loss = 'mean_squared_error')\n",
        "\n",
        "regressor.summary()"
      ],
      "metadata": {
        "colab": {
          "base_uri": "https://localhost:8080/"
        },
        "id": "Kv3D9-zWpr3M",
        "outputId": "535f02e9-9708-4228-c72c-738e4b7a0ffa"
      },
      "execution_count": null,
      "outputs": [
        {
          "output_type": "stream",
          "name": "stdout",
          "text": [
            "Model: \"sequential_3\"\n",
            "_________________________________________________________________\n",
            " Layer (type)                Output Shape              Param #   \n",
            "=================================================================\n",
            " lstm (LSTM)                 (None, 2, 50)             10400     \n",
            "                                                                 \n",
            " dropout (Dropout)           (None, 2, 50)             0         \n",
            "                                                                 \n",
            " lstm_1 (LSTM)               (None, 2, 50)             20200     \n",
            "                                                                 \n",
            " dropout_1 (Dropout)         (None, 2, 50)             0         \n",
            "                                                                 \n",
            " lstm_2 (LSTM)               (None, 2, 50)             20200     \n",
            "                                                                 \n",
            " dropout_2 (Dropout)         (None, 2, 50)             0         \n",
            "                                                                 \n",
            " lstm_3 (LSTM)               (None, 50)                20200     \n",
            "                                                                 \n",
            " dropout_3 (Dropout)         (None, 50)                0         \n",
            "                                                                 \n",
            " dense (Dense)               (None, 1)                 51        \n",
            "                                                                 \n",
            "=================================================================\n",
            "Total params: 71,051\n",
            "Trainable params: 71,051\n",
            "Non-trainable params: 0\n",
            "_________________________________________________________________\n"
          ]
        }
      ]
    },
    {
      "cell_type": "code",
      "source": [
        "history = regressor.fit(train_X, train_y, validation_split=0.1, epochs = 50, batch_size = 32, verbose=1, shuffle=False)"
      ],
      "metadata": {
        "colab": {
          "base_uri": "https://localhost:8080/"
        },
        "id": "kFEzBB_RqB0s",
        "outputId": "2a04cb1f-1bf3-4a36-e30e-17905e46cefb"
      },
      "execution_count": null,
      "outputs": [
        {
          "output_type": "stream",
          "name": "stdout",
          "text": [
            "Epoch 1/50\n",
            "66/66 [==============================] - 8s 30ms/step - loss: 38554556.0000 - val_loss: 1508050816.0000\n",
            "Epoch 2/50\n",
            "66/66 [==============================] - 1s 9ms/step - loss: 38499180.0000 - val_loss: 1507820544.0000\n",
            "Epoch 3/50\n",
            "66/66 [==============================] - 1s 9ms/step - loss: 38471340.0000 - val_loss: 1507626752.0000\n",
            "Epoch 4/50\n",
            "66/66 [==============================] - 1s 9ms/step - loss: 38447204.0000 - val_loss: 1507443072.0000\n",
            "Epoch 5/50\n",
            "66/66 [==============================] - 1s 8ms/step - loss: 38422668.0000 - val_loss: 1507264384.0000\n",
            "Epoch 6/50\n",
            "66/66 [==============================] - 1s 8ms/step - loss: 38399064.0000 - val_loss: 1507088896.0000\n",
            "Epoch 7/50\n",
            "66/66 [==============================] - 1s 9ms/step - loss: 38375632.0000 - val_loss: 1506915072.0000\n",
            "Epoch 8/50\n",
            "66/66 [==============================] - 1s 8ms/step - loss: 38352812.0000 - val_loss: 1506742528.0000\n",
            "Epoch 9/50\n",
            "66/66 [==============================] - 1s 8ms/step - loss: 38330404.0000 - val_loss: 1506571776.0000\n",
            "Epoch 10/50\n",
            "66/66 [==============================] - 1s 8ms/step - loss: 38307952.0000 - val_loss: 1506401920.0000\n",
            "Epoch 11/50\n",
            "66/66 [==============================] - 1s 8ms/step - loss: 38283376.0000 - val_loss: 1506231296.0000\n",
            "Epoch 12/50\n",
            "66/66 [==============================] - 1s 8ms/step - loss: 38261164.0000 - val_loss: 1506061568.0000\n",
            "Epoch 13/50\n",
            "66/66 [==============================] - 1s 8ms/step - loss: 38237172.0000 - val_loss: 1505892224.0000\n",
            "Epoch 14/50\n",
            "66/66 [==============================] - 1s 9ms/step - loss: 38216628.0000 - val_loss: 1505723904.0000\n",
            "Epoch 15/50\n",
            "66/66 [==============================] - 1s 9ms/step - loss: 38192308.0000 - val_loss: 1505555712.0000\n",
            "Epoch 16/50\n",
            "66/66 [==============================] - 1s 8ms/step - loss: 38171304.0000 - val_loss: 1505388032.0000\n",
            "Epoch 17/50\n",
            "66/66 [==============================] - 1s 8ms/step - loss: 38150584.0000 - val_loss: 1505221248.0000\n",
            "Epoch 18/50\n",
            "66/66 [==============================] - 1s 8ms/step - loss: 38127560.0000 - val_loss: 1505054720.0000\n",
            "Epoch 19/50\n",
            "66/66 [==============================] - 1s 8ms/step - loss: 38105540.0000 - val_loss: 1504888064.0000\n",
            "Epoch 20/50\n",
            "66/66 [==============================] - 1s 9ms/step - loss: 38081904.0000 - val_loss: 1504721152.0000\n",
            "Epoch 21/50\n",
            "66/66 [==============================] - 1s 8ms/step - loss: 38059164.0000 - val_loss: 1504554880.0000\n",
            "Epoch 22/50\n",
            "66/66 [==============================] - 1s 8ms/step - loss: 38040688.0000 - val_loss: 1504388736.0000\n",
            "Epoch 23/50\n",
            "66/66 [==============================] - 1s 8ms/step - loss: 38016712.0000 - val_loss: 1504222848.0000\n",
            "Epoch 24/50\n",
            "66/66 [==============================] - 1s 8ms/step - loss: 37994876.0000 - val_loss: 1504056960.0000\n",
            "Epoch 25/50\n",
            "66/66 [==============================] - 1s 8ms/step - loss: 37971144.0000 - val_loss: 1503891200.0000\n",
            "Epoch 26/50\n",
            "66/66 [==============================] - 1s 8ms/step - loss: 37951028.0000 - val_loss: 1503725312.0000\n",
            "Epoch 27/50\n",
            "66/66 [==============================] - 1s 9ms/step - loss: 37926372.0000 - val_loss: 1503559680.0000\n",
            "Epoch 28/50\n",
            "66/66 [==============================] - 1s 8ms/step - loss: 37907140.0000 - val_loss: 1503394304.0000\n",
            "Epoch 29/50\n",
            "66/66 [==============================] - 1s 8ms/step - loss: 37883924.0000 - val_loss: 1503228928.0000\n",
            "Epoch 30/50\n",
            "66/66 [==============================] - 1s 9ms/step - loss: 37861040.0000 - val_loss: 1503063552.0000\n",
            "Epoch 31/50\n",
            "66/66 [==============================] - 1s 8ms/step - loss: 37839632.0000 - val_loss: 1502897920.0000\n",
            "Epoch 32/50\n",
            "66/66 [==============================] - 1s 9ms/step - loss: 37820900.0000 - val_loss: 1502733184.0000\n",
            "Epoch 33/50\n",
            "66/66 [==============================] - 1s 8ms/step - loss: 37799940.0000 - val_loss: 1502569344.0000\n",
            "Epoch 34/50\n",
            "66/66 [==============================] - 1s 8ms/step - loss: 37776568.0000 - val_loss: 1502404352.0000\n",
            "Epoch 35/50\n",
            "66/66 [==============================] - 1s 9ms/step - loss: 37752024.0000 - val_loss: 1502239488.0000\n",
            "Epoch 36/50\n",
            "66/66 [==============================] - 1s 8ms/step - loss: 37730372.0000 - val_loss: 1502074752.0000\n",
            "Epoch 37/50\n",
            "66/66 [==============================] - 1s 8ms/step - loss: 37709056.0000 - val_loss: 1501910272.0000\n",
            "Epoch 38/50\n",
            "66/66 [==============================] - 1s 8ms/step - loss: 37691256.0000 - val_loss: 1501746304.0000\n",
            "Epoch 39/50\n",
            "66/66 [==============================] - 1s 8ms/step - loss: 37667428.0000 - val_loss: 1501582080.0000\n",
            "Epoch 40/50\n",
            "66/66 [==============================] - 1s 9ms/step - loss: 37645176.0000 - val_loss: 1501417600.0000\n",
            "Epoch 41/50\n",
            "66/66 [==============================] - 1s 9ms/step - loss: 37622360.0000 - val_loss: 1501253504.0000\n",
            "Epoch 42/50\n",
            "66/66 [==============================] - 1s 9ms/step - loss: 37600748.0000 - val_loss: 1501089280.0000\n",
            "Epoch 43/50\n",
            "66/66 [==============================] - 1s 8ms/step - loss: 37577648.0000 - val_loss: 1500924928.0000\n",
            "Epoch 44/50\n",
            "66/66 [==============================] - 1s 8ms/step - loss: 37558100.0000 - val_loss: 1500760832.0000\n",
            "Epoch 45/50\n",
            "66/66 [==============================] - 1s 8ms/step - loss: 37537064.0000 - val_loss: 1500596992.0000\n",
            "Epoch 46/50\n",
            "66/66 [==============================] - 1s 9ms/step - loss: 37514604.0000 - val_loss: 1500433024.0000\n",
            "Epoch 47/50\n",
            "66/66 [==============================] - 1s 8ms/step - loss: 37494124.0000 - val_loss: 1500269568.0000\n",
            "Epoch 48/50\n",
            "66/66 [==============================] - 1s 8ms/step - loss: 37472148.0000 - val_loss: 1500105600.0000\n",
            "Epoch 49/50\n",
            "66/66 [==============================] - 1s 8ms/step - loss: 37447896.0000 - val_loss: 1499941888.0000\n",
            "Epoch 50/50\n",
            "66/66 [==============================] - 1s 8ms/step - loss: 37425608.0000 - val_loss: 1499777920.0000\n"
          ]
        }
      ]
    },
    {
      "cell_type": "code",
      "source": [
        "train_predict = regressor.predict(train_X)\n",
        "test_predict = regressor.predict(test_X)"
      ],
      "metadata": {
        "colab": {
          "base_uri": "https://localhost:8080/"
        },
        "id": "_bIz90YKqq2v",
        "outputId": "e2579bf4-eefe-46a5-91c4-83e7e5939d25"
      },
      "execution_count": null,
      "outputs": [
        {
          "output_type": "stream",
          "name": "stdout",
          "text": [
            "73/73 [==============================] - 1s 3ms/step\n",
            "19/19 [==============================] - 0s 2ms/step\n"
          ]
        }
      ]
    },
    {
      "cell_type": "code",
      "source": [
        "from sklearn.preprocessing import MinMaxScaler\n",
        "\n",
        "scaler = MinMaxScaler(feature_range = (0, 1))\n",
        "price_series_scaled = scaler.fit_transform(data.reshape(-1,1))\n",
        "y_train_inv = scaler.inverse_transform(train_y.reshape(-1, 1))\n",
        "y_test_inv = scaler.inverse_transform(test_y.reshape(-1, 1))\n",
        "train_predict_inv = scaler.inverse_transform(train_predict)\n",
        "test_predict_inv = scaler.inverse_transform(test_predict)"
      ],
      "metadata": {
        "id": "KXwAvaPYq1Zj"
      },
      "execution_count": null,
      "outputs": []
    },
    {
      "cell_type": "code",
      "source": [
        "plt.figure(figsize=(16,7))\n",
        "plt.plot(y_test_inv, marker='.', label=\"Actual\")\n",
        "plt.plot(test_predict_inv, 'r', marker='.', label=\"Predicted\")\n",
        "plt.legend()\n",
        "plt.show()"
      ],
      "metadata": {
        "colab": {
          "base_uri": "https://localhost:8080/",
          "height": 444
        },
        "id": "fv5Cqj4lzz1-",
        "outputId": "34412453-5369-47a9-bb6f-34754cfa99f6"
      },
      "execution_count": null,
      "outputs": [
        {
          "output_type": "display_data",
          "data": {
            "text/plain": [
              "<Figure size 1152x504 with 1 Axes>"
            ],
            "image/png": "[encoded data removed]"
          },
          "metadata": {
            "needs_background": "light"
          }
        }
      ]
    },
    {
      "cell_type": "markdown",
      "source": [
        "\n",
        "##  **<span>4.1.1 MAE and RMSE - LSTM model  </span>**"
      ],
      "metadata": {
        "id": "rybyMnjQucSz"
      }
    },
    {
      "cell_type": "code",
      "source": [
        "from sklearn.metrics import mean_absolute_error, mean_squared_error\n",
        "\n",
        "train_RMSE = np.sqrt(mean_squared_error(train_y, train_predict))\n",
        "test_RMSE = np.sqrt(mean_squared_error(test_y, test_predict))\n",
        "train_MAE = np.sqrt(mean_absolute_error(train_y, train_predict))\n",
        "test_MAE = np.sqrt(mean_absolute_error(test_y, test_predict))\n",
        "\n",
        "\n",
        "print(f\"Train RMSE: {train_RMSE}\")\n",
        "print(f\"Train MAE: {train_MAE}\")\n",
        "\n",
        "print(f\"Test RMSE: {test_RMSE}\")\n",
        "print(f\"Test MAE: {test_MAE}\")\n",
        "\n",
        "LSTM_RMSE = test_RMSE\n",
        "LSTM_MAE = test_MAE"
      ],
      "metadata": {
        "colab": {
          "base_uri": "https://localhost:8080/"
        },
        "id": "xcOLhaelst6i",
        "outputId": "855cf48d-8d86-4781-e9ba-2a35e4b7285b"
      },
      "execution_count": null,
      "outputs": [
        {
          "output_type": "stream",
          "name": "stdout",
          "text": [
            "Train RMSE: 124.1658\n",
            "Train MAE: 86.39209116517732\n",
            "Test RMSE: 256.5186\n",
            "Test MAE: 189.46906980921136\n"
          ]
        }
      ]
    },
    {
      "cell_type": "markdown",
      "source": [
        "\n",
        "##  **<span> 4.2 ANN model  </span>**"
      ],
      "metadata": {
        "id": "QrtKlwi_uqcQ"
      }
    },
    {
      "cell_type": "code",
      "source": [
        "# Fix random seed for reproducibility\n",
        "# Thes seed value helps in initilizing random weights and biases to the neural network.  \n",
        "np.random.seed(7)"
      ],
      "metadata": {
        "execution": {
          "iopub.status.busy": "2022-12-14T01:38:46.409323Z",
          "iopub.execute_input": "2022-12-14T01:38:46.409710Z",
          "iopub.status.idle": "2022-12-14T01:38:46.415103Z",
          "shell.execute_reply.started": "2022-12-14T01:38:46.409678Z",
          "shell.execute_reply": "2022-12-14T01:38:46.413752Z"
        },
        "trusted": true,
        "id": "1yM_pgG1muu4"
      },
      "execution_count": null,
      "outputs": []
    },
    {
      "cell_type": "code",
      "source": [
        "# ML libraries\n",
        "from keras.models import Sequential\n",
        "from keras.layers.core import Dense, Activation\n",
        "import keras"
      ],
      "metadata": {
        "execution": {
          "iopub.status.busy": "2022-12-14T01:39:06.217174Z",
          "iopub.execute_input": "2022-12-14T01:39:06.217603Z",
          "iopub.status.idle": "2022-12-14T01:39:06.223936Z",
          "shell.execute_reply.started": "2022-12-14T01:39:06.217561Z",
          "shell.execute_reply": "2022-12-14T01:39:06.222828Z"
        },
        "trusted": true,
        "id": "RQrge9QPmuu4"
      },
      "execution_count": null,
      "outputs": []
    },
    {
      "cell_type": "code",
      "source": [
        "model = Sequential()\n",
        "model.add(Dense(64, input_dim = lag, activation='relu', name= \"1st_hidden\"))\n",
        "# model.add(Dense(64, activation='relu', name = '2nd_hidden'))\n",
        "model.add(Dense(1, name = 'Output_layer', activation='linear'))\n",
        "# model.add(Activation(\"linear\", name = 'Linear_activation'))\n",
        "model.compile(loss=\"mean_squared_error\", optimizer=\"adam\")\n",
        "model.summary()"
      ],
      "metadata": {
        "execution": {
          "iopub.status.busy": "2022-12-14T01:39:08.328902Z",
          "iopub.execute_input": "2022-12-14T01:39:08.329273Z",
          "iopub.status.idle": "2022-12-14T01:39:08.453307Z",
          "shell.execute_reply.started": "2022-12-14T01:39:08.329242Z",
          "shell.execute_reply": "2022-12-14T01:39:08.452009Z"
        },
        "trusted": true,
        "colab": {
          "base_uri": "https://localhost:8080/"
        },
        "id": "XtpIUkk7muu4",
        "outputId": "d73798bb-e8b3-41f8-c4e9-a66ca66e199b"
      },
      "execution_count": null,
      "outputs": [
        {
          "output_type": "stream",
          "name": "stdout",
          "text": [
            "Model: \"sequential_1\"\n",
            "_________________________________________________________________\n",
            " Layer (type)                Output Shape              Param #   \n",
            "=================================================================\n",
            " 1st_hidden (Dense)          (None, 64)                192       \n",
            "                                                                 \n",
            " Output_layer (Dense)        (None, 1)                 65        \n",
            "                                                                 \n",
            "=================================================================\n",
            "Total params: 257\n",
            "Trainable params: 257\n",
            "Non-trainable params: 0\n",
            "_________________________________________________________________\n"
          ]
        }
      ]
    },
    {
      "cell_type": "markdown",
      "source": [
        "# **<span> 4.2.1 Fit data to Model  </span>**"
      ],
      "metadata": {
        "id": "mdSKYLoZmuu5"
      }
    },
    {
      "cell_type": "code",
      "source": [
        "epoch_number = 100\n",
        "batches = 64\n",
        "\n",
        "history = model.fit(train_X, train_y, epochs = epoch_number, batch_size = batches, verbose = 1, shuffle=False, \n",
        "                    validation_split=0.1)"
      ],
      "metadata": {
        "_kg_hide-output": true,
        "execution": {
          "iopub.status.busy": "2022-12-14T01:39:25.692969Z",
          "iopub.execute_input": "2022-12-14T01:39:25.693379Z",
          "iopub.status.idle": "2022-12-14T01:39:34.590563Z",
          "shell.execute_reply.started": "2022-12-14T01:39:25.693346Z",
          "shell.execute_reply": "2022-12-14T01:39:34.589290Z"
        },
        "trusted": true,
        "colab": {
          "base_uri": "https://localhost:8080/"
        },
        "id": "PzjKB5z8muu5",
        "outputId": "74feebfe-f8a3-48a4-bd9a-bcadf12fe55b"
      },
      "execution_count": null,
      "outputs": [
        {
          "output_type": "stream",
          "name": "stdout",
          "text": [
            "Epoch 1/100\n",
            "33/33 [==============================] - 0s 4ms/step - loss: 22930440.0000 - val_loss: 595329600.0000\n",
            "Epoch 2/100\n",
            "33/33 [==============================] - 0s 2ms/step - loss: 7051121.0000 - val_loss: 161933264.0000\n",
            "Epoch 3/100\n",
            "33/33 [==============================] - 0s 2ms/step - loss: 1343772.1250 - val_loss: 24342276.0000\n",
            "Epoch 4/100\n",
            "33/33 [==============================] - 0s 2ms/step - loss: 179728.3281 - val_loss: 3957466.5000\n",
            "Epoch 5/100\n",
            "33/33 [==============================] - 0s 3ms/step - loss: 113296.0312 - val_loss: 3074661.5000\n",
            "Epoch 6/100\n",
            "33/33 [==============================] - 0s 2ms/step - loss: 113177.6406 - val_loss: 3083896.7500\n",
            "Epoch 7/100\n",
            "33/33 [==============================] - 0s 2ms/step - loss: 113020.3828 - val_loss: 3094467.7500\n",
            "Epoch 8/100\n",
            "33/33 [==============================] - 0s 2ms/step - loss: 112929.5703 - val_loss: 3091542.0000\n",
            "Epoch 9/100\n",
            "33/33 [==============================] - 0s 2ms/step - loss: 112833.9297 - val_loss: 3088984.7500\n",
            "Epoch 10/100\n",
            "33/33 [==============================] - 0s 3ms/step - loss: 112732.1875 - val_loss: 3086697.5000\n",
            "Epoch 11/100\n",
            "33/33 [==============================] - 0s 1ms/step - loss: 112623.7891 - val_loss: 3084223.2500\n",
            "Epoch 12/100\n",
            "33/33 [==============================] - 0s 2ms/step - loss: 112511.0000 - val_loss: 3081685.0000\n",
            "Epoch 13/100\n",
            "33/33 [==============================] - 0s 2ms/step - loss: 112391.7500 - val_loss: 3078968.2500\n",
            "Epoch 14/100\n",
            "33/33 [==============================] - 0s 2ms/step - loss: 112263.5234 - val_loss: 3076018.5000\n",
            "Epoch 15/100\n",
            "33/33 [==============================] - 0s 2ms/step - loss: 112116.6406 - val_loss: 3072750.2500\n",
            "Epoch 16/100\n",
            "33/33 [==============================] - 0s 2ms/step - loss: 111942.3281 - val_loss: 3068683.0000\n",
            "Epoch 17/100\n",
            "33/33 [==============================] - 0s 2ms/step - loss: 111734.0625 - val_loss: 3063665.5000\n",
            "Epoch 18/100\n",
            "33/33 [==============================] - 0s 2ms/step - loss: 111469.2422 - val_loss: 3055559.5000\n",
            "Epoch 19/100\n",
            "33/33 [==============================] - 0s 2ms/step - loss: 110635.2344 - val_loss: 3025831.0000\n",
            "Epoch 20/100\n",
            "33/33 [==============================] - 0s 3ms/step - loss: 110008.4531 - val_loss: 3036524.7500\n",
            "Epoch 21/100\n",
            "33/33 [==============================] - 0s 2ms/step - loss: 108556.7109 - val_loss: 2970863.5000\n",
            "Epoch 22/100\n",
            "33/33 [==============================] - 0s 2ms/step - loss: 107909.9766 - val_loss: 2965501.5000\n",
            "Epoch 23/100\n",
            "33/33 [==============================] - 0s 2ms/step - loss: 107030.5000 - val_loss: 2937516.7500\n",
            "Epoch 24/100\n",
            "33/33 [==============================] - 0s 2ms/step - loss: 106047.6172 - val_loss: 2909642.0000\n",
            "Epoch 25/100\n",
            "33/33 [==============================] - 0s 2ms/step - loss: 104694.6250 - val_loss: 2868210.7500\n",
            "Epoch 26/100\n",
            "33/33 [==============================] - 0s 2ms/step - loss: 103533.9531 - val_loss: 2838821.5000\n",
            "Epoch 27/100\n",
            "33/33 [==============================] - 0s 1ms/step - loss: 102661.8281 - val_loss: 2816361.5000\n",
            "Epoch 28/100\n",
            "33/33 [==============================] - 0s 1ms/step - loss: 101926.9141 - val_loss: 2797211.7500\n",
            "Epoch 29/100\n",
            "33/33 [==============================] - 0s 2ms/step - loss: 101193.2891 - val_loss: 2779012.5000\n",
            "Epoch 30/100\n",
            "33/33 [==============================] - 0s 2ms/step - loss: 100595.0312 - val_loss: 2763549.7500\n",
            "Epoch 31/100\n",
            "33/33 [==============================] - 0s 2ms/step - loss: 100130.6719 - val_loss: 2749354.7500\n",
            "Epoch 32/100\n",
            "33/33 [==============================] - 0s 2ms/step - loss: 99886.7500 - val_loss: 2744021.5000\n",
            "Epoch 33/100\n",
            "33/33 [==============================] - 0s 2ms/step - loss: 99386.7656 - val_loss: 2727688.5000\n",
            "Epoch 34/100\n",
            "33/33 [==============================] - 0s 1ms/step - loss: 99091.6562 - val_loss: 2718540.7500\n",
            "Epoch 35/100\n",
            "33/33 [==============================] - 0s 2ms/step - loss: 98831.6172 - val_loss: 2708389.5000\n",
            "Epoch 36/100\n",
            "33/33 [==============================] - 0s 1ms/step - loss: 98680.0703 - val_loss: 2698021.7500\n",
            "Epoch 37/100\n",
            "33/33 [==============================] - 0s 2ms/step - loss: 98807.2891 - val_loss: 2695172.7500\n",
            "Epoch 38/100\n",
            "33/33 [==============================] - 0s 2ms/step - loss: 98709.4766 - val_loss: 2688689.7500\n",
            "Epoch 39/100\n",
            "33/33 [==============================] - 0s 2ms/step - loss: 98614.0859 - val_loss: 2681799.0000\n",
            "Epoch 40/100\n",
            "33/33 [==============================] - 0s 2ms/step - loss: 98600.2109 - val_loss: 2675745.7500\n",
            "Epoch 41/100\n",
            "33/33 [==============================] - 0s 2ms/step - loss: 98694.2969 - val_loss: 2668000.5000\n",
            "Epoch 42/100\n",
            "33/33 [==============================] - 0s 2ms/step - loss: 99139.0156 - val_loss: 2667377.7500\n",
            "Epoch 43/100\n",
            "33/33 [==============================] - 0s 2ms/step - loss: 99338.1328 - val_loss: 2665286.5000\n",
            "Epoch 44/100\n",
            "33/33 [==============================] - 0s 2ms/step - loss: 99418.3672 - val_loss: 2660754.2500\n",
            "Epoch 45/100\n",
            "33/33 [==============================] - 0s 2ms/step - loss: 99599.0312 - val_loss: 2654055.5000\n",
            "Epoch 46/100\n",
            "33/33 [==============================] - 0s 2ms/step - loss: 100163.7500 - val_loss: 2653838.2500\n",
            "Epoch 47/100\n",
            "33/33 [==============================] - 0s 2ms/step - loss: 100490.2969 - val_loss: 2653677.2500\n",
            "Epoch 48/100\n",
            "33/33 [==============================] - 0s 2ms/step - loss: 100634.5859 - val_loss: 2650586.5000\n",
            "Epoch 49/100\n",
            "33/33 [==============================] - 0s 2ms/step - loss: 100921.0312 - val_loss: 2642551.2500\n",
            "Epoch 50/100\n",
            "33/33 [==============================] - 0s 2ms/step - loss: 101727.5703 - val_loss: 2648082.2500\n",
            "Epoch 51/100\n",
            "33/33 [==============================] - 0s 2ms/step - loss: 101909.5781 - val_loss: 2642967.7500\n",
            "Epoch 52/100\n",
            "33/33 [==============================] - 0s 2ms/step - loss: 102433.7812 - val_loss: 2641384.2500\n",
            "Epoch 53/100\n",
            "33/33 [==============================] - 0s 2ms/step - loss: 102948.9062 - val_loss: 2643618.2500\n",
            "Epoch 54/100\n",
            "33/33 [==============================] - 0s 2ms/step - loss: 103153.2812 - val_loss: 2638863.2500\n",
            "Epoch 55/100\n",
            "33/33 [==============================] - 0s 2ms/step - loss: 103697.8672 - val_loss: 2637291.7500\n",
            "Epoch 56/100\n",
            "33/33 [==============================] - 0s 2ms/step - loss: 104272.1562 - val_loss: 2638616.7500\n",
            "Epoch 57/100\n",
            "33/33 [==============================] - 0s 2ms/step - loss: 104639.8203 - val_loss: 2634548.7500\n",
            "Epoch 58/100\n",
            "33/33 [==============================] - 0s 2ms/step - loss: 105330.3359 - val_loss: 2633427.2500\n",
            "Epoch 59/100\n",
            "33/33 [==============================] - 0s 2ms/step - loss: 106099.4219 - val_loss: 2632894.5000\n",
            "Epoch 60/100\n",
            "33/33 [==============================] - 0s 2ms/step - loss: 106896.8516 - val_loss: 2632004.2500\n",
            "Epoch 61/100\n",
            "33/33 [==============================] - 0s 1ms/step - loss: 107784.0781 - val_loss: 2632264.5000\n",
            "Epoch 62/100\n",
            "33/33 [==============================] - 0s 2ms/step - loss: 108631.6641 - val_loss: 2631784.2500\n",
            "Epoch 63/100\n",
            "33/33 [==============================] - 0s 2ms/step - loss: 109561.4922 - val_loss: 2632306.0000\n",
            "Epoch 64/100\n",
            "33/33 [==============================] - 0s 2ms/step - loss: 110480.7812 - val_loss: 2630106.5000\n",
            "Epoch 65/100\n",
            "33/33 [==============================] - 0s 2ms/step - loss: 111697.5469 - val_loss: 2633471.5000\n",
            "Epoch 66/100\n",
            "33/33 [==============================] - 0s 2ms/step - loss: 112590.3516 - val_loss: 2633842.0000\n",
            "Epoch 67/100\n",
            "33/33 [==============================] - 0s 2ms/step - loss: 113529.8203 - val_loss: 2632656.2500\n",
            "Epoch 68/100\n",
            "33/33 [==============================] - 0s 2ms/step - loss: 114699.1250 - val_loss: 2634913.0000\n",
            "Epoch 69/100\n",
            "33/33 [==============================] - 0s 2ms/step - loss: 115666.8281 - val_loss: 2635622.5000\n",
            "Epoch 70/100\n",
            "33/33 [==============================] - 0s 2ms/step - loss: 116629.4453 - val_loss: 2635233.0000\n",
            "Epoch 71/100\n",
            "33/33 [==============================] - 0s 2ms/step - loss: 117747.9141 - val_loss: 2637685.0000\n",
            "Epoch 72/100\n",
            "33/33 [==============================] - 0s 2ms/step - loss: 118658.7734 - val_loss: 2639150.0000\n",
            "Epoch 73/100\n",
            "33/33 [==============================] - 0s 2ms/step - loss: 119516.4141 - val_loss: 2638253.7500\n",
            "Epoch 74/100\n",
            "33/33 [==============================] - 0s 2ms/step - loss: 120672.5469 - val_loss: 2639383.2500\n",
            "Epoch 75/100\n",
            "33/33 [==============================] - 0s 2ms/step - loss: 121820.8125 - val_loss: 2640979.2500\n",
            "Epoch 76/100\n",
            "33/33 [==============================] - 0s 2ms/step - loss: 122895.1172 - val_loss: 2643569.7500\n",
            "Epoch 77/100\n",
            "33/33 [==============================] - 0s 2ms/step - loss: 123741.8125 - val_loss: 2647214.0000\n",
            "Epoch 78/100\n",
            "33/33 [==============================] - 0s 2ms/step - loss: 124232.6797 - val_loss: 2645628.7500\n",
            "Epoch 79/100\n",
            "33/33 [==============================] - 0s 2ms/step - loss: 125110.4766 - val_loss: 2646581.0000\n",
            "Epoch 80/100\n",
            "33/33 [==============================] - 0s 2ms/step - loss: 125958.5312 - val_loss: 2648800.0000\n",
            "Epoch 81/100\n",
            "33/33 [==============================] - 0s 2ms/step - loss: 126652.6016 - val_loss: 2650500.5000\n",
            "Epoch 82/100\n",
            "33/33 [==============================] - 0s 2ms/step - loss: 127311.8516 - val_loss: 2652974.5000\n",
            "Epoch 83/100\n",
            "33/33 [==============================] - 0s 2ms/step - loss: 127842.2969 - val_loss: 2655465.5000\n",
            "Epoch 84/100\n",
            "33/33 [==============================] - 0s 2ms/step - loss: 128239.1484 - val_loss: 2657077.2500\n",
            "Epoch 85/100\n",
            "33/33 [==============================] - 0s 2ms/step - loss: 128533.1172 - val_loss: 2659136.5000\n",
            "Epoch 86/100\n",
            "33/33 [==============================] - 0s 2ms/step - loss: 128619.0859 - val_loss: 2661786.7500\n",
            "Epoch 87/100\n",
            "33/33 [==============================] - 0s 1ms/step - loss: 128434.9453 - val_loss: 2663551.0000\n",
            "Epoch 88/100\n",
            "33/33 [==============================] - 0s 2ms/step - loss: 128240.8672 - val_loss: 2661730.2500\n",
            "Epoch 89/100\n",
            "33/33 [==============================] - 0s 2ms/step - loss: 128345.6797 - val_loss: 2660933.0000\n",
            "Epoch 90/100\n",
            "33/33 [==============================] - 0s 1ms/step - loss: 128541.2812 - val_loss: 2659256.0000\n",
            "Epoch 91/100\n",
            "33/33 [==============================] - 0s 3ms/step - loss: 128967.7578 - val_loss: 2658162.0000\n",
            "Epoch 92/100\n",
            "33/33 [==============================] - 0s 2ms/step - loss: 129518.8281 - val_loss: 2658449.0000\n",
            "Epoch 93/100\n",
            "33/33 [==============================] - 0s 3ms/step - loss: 130057.8125 - val_loss: 2660247.2500\n",
            "Epoch 94/100\n",
            "33/33 [==============================] - 0s 2ms/step - loss: 130472.4141 - val_loss: 2662936.7500\n",
            "Epoch 95/100\n",
            "33/33 [==============================] - 0s 2ms/step - loss: 130654.7422 - val_loss: 2666341.0000\n",
            "Epoch 96/100\n",
            "33/33 [==============================] - 0s 3ms/step - loss: 130493.0391 - val_loss: 2669862.0000\n",
            "Epoch 97/100\n",
            "33/33 [==============================] - 0s 3ms/step - loss: 130097.9062 - val_loss: 2675678.2500\n",
            "Epoch 98/100\n",
            "33/33 [==============================] - 0s 3ms/step - loss: 129094.2578 - val_loss: 2680476.2500\n",
            "Epoch 99/100\n",
            "33/33 [==============================] - 0s 3ms/step - loss: 127908.5781 - val_loss: 2683037.0000\n",
            "Epoch 100/100\n",
            "33/33 [==============================] - 0s 3ms/step - loss: 126572.1562 - val_loss: 2680648.5000\n"
          ]
        }
      ]
    },
    {
      "cell_type": "markdown",
      "source": [
        "# **<span> 4.3 Train and Validation Loss  </span>**"
      ],
      "metadata": {
        "id": "M8MV0sfTmuu5"
      }
    },
    {
      "cell_type": "code",
      "source": [
        "# plot history\n",
        "plt.clf\n",
        "plt.figure(figsize=(10,8))\n",
        "plt.plot(history.history['loss'], label='train')\n",
        "plt.plot(history.history['val_loss'], label='test')\n",
        "plt.xlabel('Number of Epochs')\n",
        "plt.ylabel('Train and Test Loss')\n",
        "plt.title('Train and Test loss per epochs [Univariate]')\n",
        "plt.legend()\n",
        "plt.show()"
      ],
      "metadata": {
        "execution": {
          "iopub.status.busy": "2022-12-14T01:39:46.769080Z",
          "iopub.execute_input": "2022-12-14T01:39:46.770303Z",
          "iopub.status.idle": "2022-12-14T01:39:47.041094Z",
          "shell.execute_reply.started": "2022-12-14T01:39:46.770248Z",
          "shell.execute_reply": "2022-12-14T01:39:47.039814Z"
        },
        "trusted": true,
        "colab": {
          "base_uri": "https://localhost:8080/",
          "height": 520
        },
        "id": "Ymrpp62umuu5",
        "outputId": "f9135d12-f6bf-45e7-ddc9-ef1b24154243"
      },
      "execution_count": null,
      "outputs": [
        {
          "output_type": "display_data",
          "data": {
            "text/plain": [
              "<Figure size 720x576 with 1 Axes>"
            ],
            "image/png": "[encoded data removed]"
          },
          "metadata": {
            "needs_background": "light"
          }
        }
      ]
    },
    {
      "cell_type": "markdown",
      "source": [
        "## **<span> 4.4 Make Prediction  </span>**"
      ],
      "metadata": {
        "id": "ukOr6TVNmuu6"
      }
    },
    {
      "cell_type": "code",
      "source": [
        "# Make prediction\n",
        "testPredict = model.predict(test_X)\n",
        "predicted_value = testPredict[:, 0]"
      ],
      "metadata": {
        "execution": {
          "iopub.status.busy": "2022-12-14T01:39:59.509914Z",
          "iopub.execute_input": "2022-12-14T01:39:59.510349Z",
          "iopub.status.idle": "2022-12-14T01:39:59.662848Z",
          "shell.execute_reply.started": "2022-12-14T01:39:59.510316Z",
          "shell.execute_reply": "2022-12-14T01:39:59.661574Z"
        },
        "trusted": true,
        "colab": {
          "base_uri": "https://localhost:8080/"
        },
        "id": "gjSB-f9zmuu6",
        "outputId": "fda560a5-e272-4b1e-ad1a-e1b08e6bf83c"
      },
      "execution_count": null,
      "outputs": [
        {
          "output_type": "stream",
          "name": "stdout",
          "text": [
            "19/19 [==============================] - 0s 1ms/step\n"
          ]
        }
      ]
    },
    {
      "cell_type": "markdown",
      "source": [
        "## **<span> 4.5 Evaluation Metrics to Measure Performance  </span>**\n",
        "\n",
        "* **<span> Mean Absolute Error </span>**\n",
        "\n",
        "* **<span> Root Mean Squared Error</span>**\n"
      ],
      "metadata": {
        "id": "8Bx3Sylqmuu6"
      }
    },
    {
      "cell_type": "code",
      "source": [
        "import math\n",
        "from sklearn.metrics import r2_score\n",
        "from sklearn.metrics import mean_absolute_error as mae\n",
        "from sklearn.metrics import mean_squared_error\n",
        "ANN_MAE = 0\n",
        "ANN_RMSE = 0\n",
        "def evaluate_forecast_results(actual, predicted):\n",
        "    global ANN_MAE\n",
        "    ANN_MAE = round(mae(actual, predicted), 2)\n",
        "    global ANN_RMSE\n",
        "    ANN_RMSE = round(math.sqrt(mean_squared_error(actual,predicted)), 2)\n",
        "    print('MAE : ', round(mae(actual, predicted), 2))\n",
        "    print('RMSE: ', round(math.sqrt(mean_squared_error(actual,predicted)), 2))\n",
        "    \n",
        "    "
      ],
      "metadata": {
        "execution": {
          "iopub.status.busy": "2022-12-14T01:59:46.971439Z",
          "iopub.execute_input": "2022-12-14T01:59:46.971841Z",
          "iopub.status.idle": "2022-12-14T01:59:46.978873Z",
          "shell.execute_reply.started": "2022-12-14T01:59:46.971805Z",
          "shell.execute_reply": "2022-12-14T01:59:46.977849Z"
        },
        "trusted": true,
        "id": "9aosas__muu6"
      },
      "execution_count": null,
      "outputs": []
    },
    {
      "cell_type": "code",
      "source": [
        "evaluate_forecast_results(test_y, predicted_value)"
      ],
      "metadata": {
        "execution": {
          "iopub.status.busy": "2022-12-14T01:59:50.365809Z",
          "iopub.execute_input": "2022-12-14T01:59:50.366910Z",
          "iopub.status.idle": "2022-12-14T01:59:50.374872Z",
          "shell.execute_reply.started": "2022-12-14T01:59:50.366868Z",
          "shell.execute_reply": "2022-12-14T01:59:50.373444Z"
        },
        "trusted": true,
        "colab": {
          "base_uri": "https://localhost:8080/"
        },
        "id": "rqPBqpWTmuu6",
        "outputId": "d3979d3d-f6ff-40ff-f18f-f53566325814"
      },
      "execution_count": null,
      "outputs": [
        {
          "output_type": "stream",
          "name": "stdout",
          "text": [
            "MAE :  959.81\n",
            "RMSE:  1397.1\n"
          ]
        }
      ]
    },
    {
      "cell_type": "code",
      "source": [
        "# Here we're plotting Test and Predicted data\n",
        "\n",
        "plt.figure(figsize=(16, 8))\n",
        "plt.rcParams.update({'font.size': 12})\n",
        "plt.plot(test_y[:], '#0077be',label = 'Actual')\n",
        "plt.plot(predicted_value, '#ff8841',label = 'Predicted')\n",
        "plt.title('ANN Model for BITCOIN Price Forecasting')\n",
        "plt.ylabel('BITCOIN Price [in Dollar]')\n",
        "plt.xlabel('Time Steps [in Days] ')\n",
        "plt.legend()\n",
        "plt.show()"
      ],
      "metadata": {
        "execution": {
          "iopub.status.busy": "2022-12-14T01:41:35.993702Z",
          "iopub.execute_input": "2022-12-14T01:41:35.994102Z",
          "iopub.status.idle": "2022-12-14T01:41:36.271792Z",
          "shell.execute_reply.started": "2022-12-14T01:41:35.994069Z",
          "shell.execute_reply": "2022-12-14T01:41:36.270698Z"
        },
        "trusted": true,
        "colab": {
          "base_uri": "https://localhost:8080/",
          "height": 520
        },
        "id": "TFsRl5Ycmuu6",
        "outputId": "241d3228-a228-4dd1-f92d-f7eea31162a8"
      },
      "execution_count": null,
      "outputs": [
        {
          "output_type": "display_data",
          "data": {
            "text/plain": [
              "<Figure size 1152x576 with 1 Axes>"
            ],
            "image/png": "[encoded data removed]"
          },
          "metadata": {
            "needs_background": "light"
          }
        }
      ]
    },
    {
      "cell_type": "markdown",
      "source": [
        "\n",
        "##  **<span> 5 Comparison of Metrics for recommendation  </span>**"
      ],
      "metadata": {
        "id": "yx9guuK-vb1R"
      }
    },
    {
      "cell_type": "code",
      "source": [
        "if LSTM_RMSE < ANN_RMSE and LSTM_MAE < ANN_MAE:\n",
        "  print(\"Progress with the Recommended value of Bitcoin using LSTM\")\n",
        "else:\n",
        "  print('Progress with the Recommended value of Bitcoin using ANN')"
      ],
      "metadata": {
        "colab": {
          "base_uri": "https://localhost:8080/"
        },
        "id": "9impZeTQtOQm",
        "outputId": "c7d0490f-84dd-40b4-f0a3-7cb8cfab38b6"
      },
      "execution_count": null,
      "outputs": [
        {
          "output_type": "stream",
          "name": "stdout",
          "text": [
            "Progress with the Recommended value of Bitcoin using LSTM\n"
          ]
        }
      ]
    },
    {
      "cell_type": "markdown",
      "source": [
        "Citation :\n",
        "1. https://www.kaggle.com/code/debashis74017/time-series-forecasting-itcoin-price/notebook#%F0%9F%93%99--5.-Artificial-Neural-Network---Bitcoin-price-forecasting--\n",
        "\n",
        "2.https://www.kaggle.com/code/akashmathur2212/bitcoin-price-prediction-arima-xgboost-lstm-fbprop/notebook#LSTM"
      ],
      "metadata": {
        "id": "YSi68IGl-4hP"
      }
    }
  ]
}